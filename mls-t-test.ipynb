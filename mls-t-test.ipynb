{
 "cells": [
  {
   "cell_type": "code",
   "execution_count": null,
   "id": "76b6aaa9",
   "metadata": {},
   "outputs": [
    {
     "data": {
      "text/html": [
       "<script>Jupyter.notebook.kernel.restart()</script>"
      ]
     },
     "metadata": {},
     "output_type": "display_data"
    }
   ],
   "source": [
    "from IPython.core.display import display_html\n",
    "display_html(\"<script>Jupyter.notebook.kernel.restart()</script>\",raw=True)"
   ]
  },
  {
   "cell_type": "code",
   "execution_count": 1,
   "id": "19093beb",
   "metadata": {},
   "outputs": [
    {
     "data": {
      "text/html": [
       "<style>.container { width:100% !important; }</style>"
      ],
      "text/plain": [
       "<IPython.core.display.HTML object>"
      ]
     },
     "metadata": {},
     "output_type": "display_data"
    },
    {
     "data": {
      "text/html": [
       "<style>.container { width:100% !important; }</style>"
      ],
      "text/plain": [
       "<IPython.core.display.HTML object>"
      ]
     },
     "metadata": {},
     "output_type": "display_data"
    }
   ],
   "source": [
    "from sys import path; path.insert(1,\"../src\");\n",
    "import fubar; from importlib import reload; reload(fubar);"
   ]
  },
  {
   "cell_type": "markdown",
   "id": "616b0550",
   "metadata": {},
   "source": [
    "***\n",
    "< [GMIT Data Analytics](https://web.archive.org/web/20201029063153/https://www.gmit.ie/computer-science-and-applied-physics/higher-diploma-science-computing-data-analytics-ict) | [Home](https://github.com/SeanOhAileasa) | [README](https://github.com/SeanOhAileasa/mls-t-test/blob/main/README.md) >\n",
    "\n",
    "[![GMIT](https://github.com/SeanOhAileasa/SeanOhAileasa/blob/master/rc/gmit.png?raw=true)](https://web.archive.org/web/20201029063153/https://www.gmit.ie/computer-science-and-applied-physics/higher-diploma-science-computing-data-analytics-ict)\n",
    "\n",
    "## Machine Learning & Statistics - Course Material 2021\n",
    "### Topic: [t-test](https://nbviewer.jupyter.org/github/SeanOhAileasa/mls-t-test/blob/main/mls-t-test.ipynb)\n",
    "***"
   ]
  },
  {
   "cell_type": "markdown",
   "id": "220c0602",
   "metadata": {},
   "source": [
    "Course material for the ``Machine Learning & Statistics`` module (5 Credits) of the ``Higher Diploma in Science in Computing (Data Analytics) (H.Dip)`` programme (75 Credits) at **Galway-Mayo Institute of Technology (GMIT)**."
   ]
  },
  {
   "cell_type": "markdown",
   "id": "85ba523b",
   "metadata": {},
   "source": [
    "- referenced external link - [Machine Learning & Statistics](https://nbviewer.jupyter.org/github/SeanOhAileasa/mls-machine-learning-statistics/blob/main/mls-machine-learning-statistics.ipynb)"
   ]
  },
  {
   "cell_type": "code",
   "execution_count": 2,
   "id": "c75655d3",
   "metadata": {},
   "outputs": [],
   "source": [
    "from sys import path; path.insert(1,\"../src\")\n",
    "from fubar import fFile,fMagic"
   ]
  },
  {
   "cell_type": "code",
   "execution_count": 3,
   "id": "464c029f",
   "metadata": {
    "scrolled": true
   },
   "outputs": [
    {
     "name": "stdout",
     "output_type": "stream",
     "text": [
      "# repository ./SeanOhAileasa\r\n",
      "def fFile(nParPath):\r\n",
      "    \"\"\"Start a file with its associated application.\r\n",
      "\r\n",
      "Input: nParPath\r\n",
      "Process: (os.path.realpath; os.startfile)\r\n",
      "Output: file opened with associated application\r\n",
      "\"\"\"\r\n",
      "    from os import path,startfile\r\n",
      "    return startfile(path.realpath(nParPath))\r\n",
      "# --- END ---\r\n"
     ]
    }
   ],
   "source": [
    "%%script bash\n",
    "grep -1 \"def fFile\" ../src/fubar.py -A 9"
   ]
  },
  {
   "cell_type": "markdown",
   "id": "e1449819",
   "metadata": {},
   "source": [
    "<a id=\"top\"></a>\n",
    "***\n",
    "## Table of Contents\n",
    "***\n",
    "\n",
    "## [Abstract](#abstract)\n",
    "\n",
    "## [Introduction](#introduction) \n",
    "\n",
    "* [Simulation](#simulation) <br/><br/>\n",
    "    * [Collections](#simulationnumpyrandomnormalFakeData) ``a`` ``b`` <br/><br/>\n",
    "        * [Data Structure](#dataStructure) <br/><br/>\n",
    "            * [Visualisation](#dataStructurevisualisation) <br/><br/>\n",
    "* [T-Test](#solutionttest) <br/><br/>\n",
    "    * [``scipy.stats``](#solutionscipystats) <br/><br/>\n",
    "    * [``statsmodels.stats.weightstats``](#solutionstatsmodelsstatsweightstats)\n",
    "\n",
    "## [Solution](#solution)\n",
    "\n",
    "* [PDF](#solutionProbabilityDensityFunction) <br/><br/>\n",
    "    * [Assumptions](#solutionAssumptions) <br/><br/>\n",
    "    \n",
    "## [Conclusion](#conclusion)\n",
    "\n",
    "- &#x1F6A7;"
   ]
  },
  {
   "cell_type": "markdown",
   "id": "bc989e6f",
   "metadata": {},
   "source": [
    "***\n",
    "## END"
   ]
  },
  {
   "cell_type": "markdown",
   "id": "0c88ab4a",
   "metadata": {},
   "source": [
    "< [Table of Contents](#top) | [Introduction](#introduction) | [Solution](#solution) | [Conclusion](#conclusion) | [References](#references) >\n",
    "<a id=\"abstract\"></a>\n",
    "***\n",
    "## Abstract\n",
    "***"
   ]
  },
  {
   "cell_type": "markdown",
   "id": "f2075ba9",
   "metadata": {},
   "source": [
    "- in comparison to machine learning the ``t-test`` is an old-style statistical test - there is an interesting relationship between the ``t-test`` and Ireland - William Sealy Gosset figured out a way to test if two sets of numbers are similar [1]"
   ]
  },
  {
   "cell_type": "markdown",
   "id": "bb00699e",
   "metadata": {},
   "source": [
    "- the technique is a traditional way of looking at the world and trying to make predictions based on data - even though it is the older approach many think it is still the better approach (machine learning practitioners may not know much about these older methods) [1]"
   ]
  },
  {
   "cell_type": "markdown",
   "id": "2c722a77",
   "metadata": {},
   "source": [
    "- the ``t-test`` is heavily used in the life/medical/physical sciences and provides a grounding in the ideas around machine learning [1]"
   ]
  },
  {
   "cell_type": "markdown",
   "id": "c6b4ce04",
   "metadata": {},
   "source": [
    "- thinking about uncertainty in the world and datasets that have a pattern in them - that pattern may have a little bit of variability and a little bit of volatility (not a straightforward pattern) [1]"
   ]
  },
  {
   "cell_type": "markdown",
   "id": "7d1a0af5",
   "metadata": {},
   "source": [
    "- there is a lot of theory behind ``t-tests`` (probability distributions and formulating hypothesis tests etc) - demonstrating the ``t-test`` from a computer science point of view [1]"
   ]
  },
  {
   "cell_type": "markdown",
   "id": "c506daf0",
   "metadata": {},
   "source": [
    "- ``scipy.stats.ttest_ind`` is literally performing a ``t-test`` (passing arguments ``a`` and ``b``) [1]\n",
    "\n",
    "```python\n",
    "scipy.stats.ttest_ind(a,b)\n",
    "```"
   ]
  },
  {
   "cell_type": "markdown",
   "id": "7b545f34",
   "metadata": {},
   "source": [
    "- there is a little bit of preparation for the two inputs (``a`` and ``b``) but the preparation is really just unravelling those because all ``a`` is a collection of numbers and all ``b`` is a collection of numbers [1]"
   ]
  },
  {
   "cell_type": "markdown",
   "id": "8df62ea3",
   "metadata": {},
   "source": [
    "- the point is it is very easy to run statistical tests when you know a little bit of programming - many organisations spend a lot of money on ``SPSS`` and the main thing its used for is to run something like ``scipy.stats.ttest_ind(a,b)`` (in python) and get the exact same output [1]"
   ]
  },
  {
   "cell_type": "markdown",
   "id": "b2d2ae49",
   "metadata": {},
   "source": [
    "- running machine learning code is fairly straightforward whereby a single statement actually does the heavy lifting - digging into a package to do the calculation is straightforward - could easily code up a ``t-test`` function but the interpretation of the outputs is where it is at [1]"
   ]
  },
  {
   "cell_type": "markdown",
   "id": "9cdf3518",
   "metadata": {},
   "source": [
    "- what is assumed before doing the test and how the assumptions are justified (running the machine learning code statement) then comes the interpretation of the results coming out of that test [1]"
   ]
  },
  {
   "cell_type": "markdown",
   "id": "ab63f227",
   "metadata": {},
   "source": [
    "- generally speaking will get essentially two numbers in the output: i. the calculation of the actual ``t-statistic`` and; ii. some probability related to that value saying how likely it was to see that value based on the prior assumptions [1]"
   ]
  },
  {
   "cell_type": "markdown",
   "id": "3fa461fc",
   "metadata": {},
   "source": [
    "***\n",
    "## END"
   ]
  },
  {
   "cell_type": "markdown",
   "id": "d319e57d",
   "metadata": {},
   "source": [
    "< [Table of Contents](#top) | [Abstract](#abstract) | [Solution](#solution) | [Conclusion](#conclusion) | [References](#references) >\n",
    "<a id=\"introduction\"></a>\n",
    "***\n",
    "## Introduction\n",
    "***"
   ]
  },
  {
   "cell_type": "markdown",
   "id": "40263a41",
   "metadata": {},
   "source": [
    "- a ``t-test`` is a statistical test that looks for differences in two collections of numbers - asks did the two collections come from what looks like the same probability distribution (checking if two collections came from populations that have the same average) [1]"
   ]
  },
  {
   "cell_type": "markdown",
   "id": "19d00484",
   "metadata": {},
   "source": [
    "< [Table of Contents](#top) | [References](#references) >\n",
    "<a id=\"simulation\"></a>\n",
    "***\n",
    "### Simulation\n",
    "***"
   ]
  },
  {
   "cell_type": "markdown",
   "id": "cef38aef",
   "metadata": {},
   "source": [
    "- generating two collections of random numbers [2]"
   ]
  },
  {
   "cell_type": "markdown",
   "id": "adc3a24b",
   "metadata": {},
   "source": [
    "- ``m_a`` and ``m_b`` represents the mean of each collection of random numbers generated [2]"
   ]
  },
  {
   "cell_type": "code",
   "execution_count": 1,
   "id": "3be61bca",
   "metadata": {},
   "outputs": [],
   "source": [
    "m_a,m_b=1.0,2.0"
   ]
  },
  {
   "cell_type": "markdown",
   "id": "793d39fc",
   "metadata": {},
   "source": [
    "- ``s_a`` and ``s_b`` (technically not quite right) represents the standard deviation [2]"
   ]
  },
  {
   "cell_type": "code",
   "execution_count": 2,
   "id": "1718df47",
   "metadata": {},
   "outputs": [],
   "source": [
    "s_a,s_b=0.4,0.4"
   ]
  },
  {
   "cell_type": "markdown",
   "id": "0bc1da36",
   "metadata": {},
   "source": [
    "- ``N`` is just a convenience parameter thrown in [2]"
   ]
  },
  {
   "cell_type": "code",
   "execution_count": 3,
   "id": "40fa1a6d",
   "metadata": {},
   "outputs": [],
   "source": [
    "N=40 # representing collection length"
   ]
  },
  {
   "cell_type": "markdown",
   "id": "f5388792",
   "metadata": {},
   "source": [
    "< [Table of Contents](#top) | [References](#references) >\n",
    "<a id=\"simulationnumpyrandomnormalFakeData\"></a>\n",
    "***\n",
    "###### Collections ``a`` ``b``\n",
    "***"
   ]
  },
  {
   "cell_type": "markdown",
   "id": "559f26b6",
   "metadata": {},
   "source": [
    "- creating collections ``a`` and ``b`` - both are just collections of numbers wrapped in ``numpy`` arrays - takes the collection of numbers and makes them another collection of numbers with all the ``numpy`` functionality [2]"
   ]
  },
  {
   "cell_type": "code",
   "execution_count": 4,
   "id": "c36041ce",
   "metadata": {},
   "outputs": [],
   "source": [
    "import numpy as np"
   ]
  },
  {
   "cell_type": "code",
   "execution_count": 5,
   "id": "117925be",
   "metadata": {},
   "outputs": [
    {
     "name": "stdout",
     "output_type": "stream",
     "text": [
      "Provides\n",
      "  1. An array object of arbitrary homogeneous items\n",
      "  2. Fast mathematical operations over arrays\n",
      "  3. Linear Algebra, Fourier Transforms, Random Number Generation\n"
     ]
    }
   ],
   "source": [
    "print(\"\\n\".join(np.__doc__.split(\"\\n\")[4:8]))"
   ]
  },
  {
   "cell_type": "markdown",
   "id": "599e5226",
   "metadata": {},
   "source": [
    "- the numbers are the same but the ``numpy`` arrays produced are more efficient than the bog-standard collection from python [2]"
   ]
  },
  {
   "cell_type": "markdown",
   "id": "4f5ac19c",
   "metadata": {},
   "source": [
    "- ``numpy.random.normal`` is going to generate random numbers on a bell-shaped curve [2]"
   ]
  },
  {
   "cell_type": "markdown",
   "id": "32d479d9",
   "metadata": {},
   "source": [
    "- specifying the mean ``m_a`` (and ``m_b``) picks a number that comes out with an average around the mean location (``loc``) - generates a collection of numbers centred around $1.0$ [2]"
   ]
  },
  {
   "cell_type": "code",
   "execution_count": 6,
   "id": "c2c90e1a",
   "metadata": {},
   "outputs": [
    {
     "data": {
      "text/plain": [
       "1.0"
      ]
     },
     "execution_count": 6,
     "metadata": {},
     "output_type": "execute_result"
    }
   ],
   "source": [
    "m_a"
   ]
  },
  {
   "cell_type": "code",
   "execution_count": 7,
   "id": "5dc630ae",
   "metadata": {},
   "outputs": [
    {
     "data": {
      "text/plain": [
       "2.0"
      ]
     },
     "execution_count": 7,
     "metadata": {},
     "output_type": "execute_result"
    }
   ],
   "source": [
    "m_b # collection centered around"
   ]
  },
  {
   "cell_type": "markdown",
   "id": "08b7ff39",
   "metadata": {},
   "source": [
    "- the ``scale`` basically means the spread according to ``s_a`` (and ``s_b``) - generally means ``s_a`` is unlikely to generate numbers bigger than $2.5$ and smaller than $-0.5$ (with total $40$) [2]"
   ]
  },
  {
   "cell_type": "code",
   "execution_count": 8,
   "id": "067d2bf0",
   "metadata": {},
   "outputs": [
    {
     "data": {
      "text/plain": [
       "40"
      ]
     },
     "execution_count": 8,
     "metadata": {},
     "output_type": "execute_result"
    }
   ],
   "source": [
    "N # len of collection"
   ]
  },
  {
   "cell_type": "code",
   "execution_count": 9,
   "id": "3fe02450",
   "metadata": {},
   "outputs": [
    {
     "data": {
      "text/plain": [
       "0.4"
      ]
     },
     "execution_count": 9,
     "metadata": {},
     "output_type": "execute_result"
    }
   ],
   "source": [
    "s_a"
   ]
  },
  {
   "cell_type": "code",
   "execution_count": 10,
   "id": "8dff6d1c",
   "metadata": {},
   "outputs": [
    {
     "name": "stdout",
     "output_type": "stream",
     "text": [
      "        The probability density function of the normal distribution, first\n",
      "        derived by De Moivre and 200 years later by both Gauss and Laplace\n",
      "        independently [2]_, is often called the bell curve because of\n",
      "        its characteristic shape (see the example below).\n",
      "\n",
      "        The normal distributions occurs often in nature.  For example, it\n",
      "        describes the commonly occurring distribution of samples influenced\n",
      "        by a large number of tiny, random disturbances, each with its own\n",
      "        unique distribution [2]_.\n"
     ]
    }
   ],
   "source": [
    "print(\"\\n\".join(np.random.normal.__doc__.split(\"\\n\")[5:14]))"
   ]
  },
  {
   "cell_type": "code",
   "execution_count": 11,
   "id": "9eae93aa",
   "metadata": {},
   "outputs": [],
   "source": [
    "a=np.random.normal(loc=m_a,scale=s_a,size=N)"
   ]
  },
  {
   "cell_type": "code",
   "execution_count": 12,
   "id": "6b5da559",
   "metadata": {},
   "outputs": [
    {
     "data": {
      "text/plain": [
       "array([0.72881369, 1.10953323, 1.23116135, 1.49675141, 0.91669004,\n",
       "       1.00702177, 1.15305935, 0.75812175, 0.42152549, 0.72885244,\n",
       "       0.61461782, 1.26332986, 1.19034458, 0.1810272 , 0.61977613,\n",
       "       0.33888332, 0.85674   , 0.79377683, 0.93263915, 0.56314954,\n",
       "       1.14149448, 0.9947962 , 1.29987563, 1.34172417, 0.65368019,\n",
       "       0.50276457, 1.24633547, 0.83709992, 1.54615722, 1.21304785,\n",
       "       0.90215752, 1.16567069, 0.93841826, 1.15656691, 0.31116253,\n",
       "       0.85399015, 1.3033894 , 0.68092134, 0.90201417, 1.18269802])"
      ]
     },
     "execution_count": 12,
     "metadata": {},
     "output_type": "execute_result"
    }
   ],
   "source": [
    "a"
   ]
  },
  {
   "cell_type": "code",
   "execution_count": 13,
   "id": "36e54043",
   "metadata": {},
   "outputs": [
    {
     "data": {
      "text/plain": [
       "0.4"
      ]
     },
     "execution_count": 13,
     "metadata": {},
     "output_type": "execute_result"
    }
   ],
   "source": [
    "s_b"
   ]
  },
  {
   "cell_type": "code",
   "execution_count": 14,
   "id": "7beeedf0",
   "metadata": {},
   "outputs": [],
   "source": [
    "b=np.random.normal(loc=m_b,scale=s_b,size=N)"
   ]
  },
  {
   "cell_type": "code",
   "execution_count": 15,
   "id": "d345d812",
   "metadata": {},
   "outputs": [
    {
     "data": {
      "text/plain": [
       "array([1.69079754, 2.05202969, 2.19652318, 2.20105528, 1.77359496,\n",
       "       1.75589603, 2.34410943, 2.01970435, 2.46326126, 2.26667622,\n",
       "       2.59688154, 1.75787348, 2.13577762, 1.32907421, 1.51842646,\n",
       "       1.98444797, 1.15271758, 2.71945361, 2.14011023, 1.59903318,\n",
       "       1.87204422, 1.80876087, 1.59569523, 2.67417238, 2.07407938,\n",
       "       1.54287756, 2.01607046, 2.78017518, 2.20521945, 2.78836208,\n",
       "       1.4670203 , 1.16040522, 2.55369344, 2.16902027, 1.31095525,\n",
       "       1.317068  , 2.0616786 , 2.15048667, 1.94303723, 1.43267859])"
      ]
     },
     "execution_count": 15,
     "metadata": {},
     "output_type": "execute_result"
    }
   ],
   "source": [
    "b"
   ]
  },
  {
   "cell_type": "markdown",
   "id": "a43e009f",
   "metadata": {},
   "source": [
    "< [Table of Contents](#top) | [References](#references) >\n",
    "<a id=\"dataStructure\"></a>\n",
    "***\n",
    "###### Data Structure\n",
    "***"
   ]
  },
  {
   "cell_type": "markdown",
   "id": "336ab8d5",
   "metadata": {},
   "source": [
    "- creating a data structure built from the ``numpy`` collection - using ``pandas`` allows different types for the columns (an abstraction on top of ``numpy``) [1]"
   ]
  },
  {
   "cell_type": "code",
   "execution_count": 16,
   "id": "5eae3fe7",
   "metadata": {},
   "outputs": [],
   "source": [
    "import pandas as pd"
   ]
  },
  {
   "cell_type": "code",
   "execution_count": 17,
   "id": "0dbebfa8",
   "metadata": {
    "scrolled": true
   },
   "outputs": [
    {
     "name": "stdout",
     "output_type": "stream",
     "text": [
      "pandas - a powerful data analysis and manipulation library for Python\n"
     ]
    }
   ],
   "source": [
    "print(\"\\n\".join(pd.__doc__.split(\"\\n\")[1:2]))"
   ]
  },
  {
   "cell_type": "markdown",
   "id": "b2b9d15e",
   "metadata": {},
   "source": [
    "- creating a ``DataFrame`` of the ``a`` and ``b`` collections [2] "
   ]
  },
  {
   "cell_type": "markdown",
   "id": "783fca62",
   "metadata": {},
   "source": [
    "- ``A`` is going to be in the column beside the ``a`` collection - ``B`` is going to be in the column beside the ``b`` collection [2]"
   ]
  },
  {
   "cell_type": "markdown",
   "id": "83916176",
   "metadata": {},
   "source": [
    "- the ``a`` collection is meant to be centred around $1.0$ (beside the column called Category ``A``) - the ``b`` collection is meant to be centred around $2.0$ (beside the column called Category ``B``) [2]"
   ]
  },
  {
   "cell_type": "code",
   "execution_count": 18,
   "id": "64f30491",
   "metadata": {},
   "outputs": [
    {
     "name": "stdout",
     "output_type": "stream",
     "text": [
      "    Two-dimensional, size-mutable, potentially heterogeneous tabular data.\n",
      "\n",
      "    Data structure also contains labeled axes (rows and columns).\n",
      "    Arithmetic operations align on both row and column labels. Can be\n",
      "    thought of as a dict-like container for Series objects. The primary\n",
      "    pandas data structure.\n"
     ]
    }
   ],
   "source": [
    "print(\"\\n\".join(pd.DataFrame.__doc__.split(\"\\n\")[1:7]))"
   ]
  },
  {
   "cell_type": "code",
   "execution_count": 19,
   "id": "8a712627",
   "metadata": {},
   "outputs": [],
   "source": [
    "df=pd.DataFrame(data={\"Category\":[\"A\"]*len(a)+[\"B\"]*len(b),\"Value\":np.hstack([a,b])})"
   ]
  },
  {
   "cell_type": "code",
   "execution_count": 20,
   "id": "43542043",
   "metadata": {},
   "outputs": [
    {
     "data": {
      "text/html": [
       "<div>\n",
       "<style scoped>\n",
       "    .dataframe tbody tr th:only-of-type {\n",
       "        vertical-align: middle;\n",
       "    }\n",
       "\n",
       "    .dataframe tbody tr th {\n",
       "        vertical-align: top;\n",
       "    }\n",
       "\n",
       "    .dataframe thead th {\n",
       "        text-align: right;\n",
       "    }\n",
       "</style>\n",
       "<table border=\"1\" class=\"dataframe\">\n",
       "  <thead>\n",
       "    <tr style=\"text-align: right;\">\n",
       "      <th></th>\n",
       "      <th>Category</th>\n",
       "      <th>Value</th>\n",
       "    </tr>\n",
       "  </thead>\n",
       "  <tbody>\n",
       "    <tr>\n",
       "      <th>0</th>\n",
       "      <td>A</td>\n",
       "      <td>0.728814</td>\n",
       "    </tr>\n",
       "    <tr>\n",
       "      <th>1</th>\n",
       "      <td>A</td>\n",
       "      <td>1.109533</td>\n",
       "    </tr>\n",
       "    <tr>\n",
       "      <th>2</th>\n",
       "      <td>A</td>\n",
       "      <td>1.231161</td>\n",
       "    </tr>\n",
       "    <tr>\n",
       "      <th>3</th>\n",
       "      <td>A</td>\n",
       "      <td>1.496751</td>\n",
       "    </tr>\n",
       "    <tr>\n",
       "      <th>4</th>\n",
       "      <td>A</td>\n",
       "      <td>0.916690</td>\n",
       "    </tr>\n",
       "    <tr>\n",
       "      <th>...</th>\n",
       "      <td>...</td>\n",
       "      <td>...</td>\n",
       "    </tr>\n",
       "    <tr>\n",
       "      <th>75</th>\n",
       "      <td>B</td>\n",
       "      <td>1.317068</td>\n",
       "    </tr>\n",
       "    <tr>\n",
       "      <th>76</th>\n",
       "      <td>B</td>\n",
       "      <td>2.061679</td>\n",
       "    </tr>\n",
       "    <tr>\n",
       "      <th>77</th>\n",
       "      <td>B</td>\n",
       "      <td>2.150487</td>\n",
       "    </tr>\n",
       "    <tr>\n",
       "      <th>78</th>\n",
       "      <td>B</td>\n",
       "      <td>1.943037</td>\n",
       "    </tr>\n",
       "    <tr>\n",
       "      <th>79</th>\n",
       "      <td>B</td>\n",
       "      <td>1.432679</td>\n",
       "    </tr>\n",
       "  </tbody>\n",
       "</table>\n",
       "<p>80 rows × 2 columns</p>\n",
       "</div>"
      ],
      "text/plain": [
       "   Category     Value\n",
       "0         A  0.728814\n",
       "1         A  1.109533\n",
       "2         A  1.231161\n",
       "3         A  1.496751\n",
       "4         A  0.916690\n",
       "..      ...       ...\n",
       "75        B  1.317068\n",
       "76        B  2.061679\n",
       "77        B  2.150487\n",
       "78        B  1.943037\n",
       "79        B  1.432679\n",
       "\n",
       "[80 rows x 2 columns]"
      ]
     },
     "execution_count": 20,
     "metadata": {},
     "output_type": "execute_result"
    }
   ],
   "source": [
    "df"
   ]
  },
  {
   "cell_type": "markdown",
   "id": "a9cbf146",
   "metadata": {},
   "source": [
    "< [Table of Contents](#top) | [References](#references) >\n",
    "<a id=\"dataStructurevisualisation\"></a>\n",
    "***\n",
    "###### Visualisation\n",
    "***"
   ]
  },
  {
   "cell_type": "markdown",
   "id": "10a130ef",
   "metadata": {},
   "source": [
    "- getting a picture of whats going on [2]"
   ]
  },
  {
   "cell_type": "code",
   "execution_count": 21,
   "id": "8899edfc",
   "metadata": {},
   "outputs": [],
   "source": [
    "import matplotlib.pyplot as plt"
   ]
  },
  {
   "cell_type": "code",
   "execution_count": 22,
   "id": "cc57f404",
   "metadata": {},
   "outputs": [
    {
     "name": "stdout",
     "output_type": "stream",
     "text": [
      "`matplotlib.pyplot` is a state-based interface to matplotlib. It provides\n",
      "a MATLAB-like way of plotting.\n",
      "\n",
      "pyplot is mainly intended for interactive plots and simple cases of\n",
      "programmatic plot generation::\n"
     ]
    }
   ],
   "source": [
    "print(\"\\n\".join(plt.__doc__.split(\"\\n\")[1:6]))"
   ]
  },
  {
   "cell_type": "code",
   "execution_count": 23,
   "id": "ffc587e9",
   "metadata": {},
   "outputs": [],
   "source": [
    "plt.style.use(style=\"fivethirtyeight\")"
   ]
  },
  {
   "cell_type": "code",
   "execution_count": 24,
   "id": "97aa9001",
   "metadata": {},
   "outputs": [],
   "source": [
    "plt.rcParams[\"figure.figsize\"]=12.8,7.2"
   ]
  },
  {
   "cell_type": "code",
   "execution_count": 25,
   "id": "46e68497",
   "metadata": {},
   "outputs": [],
   "source": [
    "import seaborn as sns"
   ]
  },
  {
   "cell_type": "code",
   "execution_count": 26,
   "id": "2ac5ea3a",
   "metadata": {},
   "outputs": [
    {
     "name": "stdout",
     "output_type": "stream",
     "text": [
      "This function provides access to several axes-level functions that\n",
      "show the relationship between a numerical and one or more categorical\n",
      "variables using one of several visual representations. The ``kind``\n"
     ]
    }
   ],
   "source": [
    "print(\"\\n\".join(sns.catplot.__doc__.split(\"\\n\")[2:5]))"
   ]
  },
  {
   "cell_type": "code",
   "execution_count": 27,
   "id": "7434e8d0",
   "metadata": {
    "scrolled": false
   },
   "outputs": [
    {
     "data": {
      "image/png": "[encoded data removed]",
      "text/plain": [
       "<Figure size 360x360 with 1 Axes>"
      ]
     },
     "metadata": {},
     "output_type": "display_data"
    }
   ],
   "source": [
    "sns.catplot(x=\"Category\",y=\"Value\",jitter=False,data=df);"
   ]
  },
  {
   "cell_type": "markdown",
   "id": "4d6a9ed6",
   "metadata": {},
   "source": [
    "- the simulation games the system (knowing the collection ``a`` is grouped around the ``m_a`` and the collection ``b`` is grouped around ``m_b``) [3]"
   ]
  },
  {
   "cell_type": "markdown",
   "id": "530fe7d1",
   "metadata": {},
   "source": [
    "- in the real-world may have measurements for the collection ``a`` and more measurements for the collection ``b`` but not know if both are grouped around separate points [3]"
   ]
  },
  {
   "cell_type": "markdown",
   "id": "089aedc2",
   "metadata": {},
   "source": [
    "- the question is does the collections (``a`` and ``b``) differ in general enough to justify saying the collection ``a`` is different to the collection ``b`` [3]"
   ]
  },
  {
   "cell_type": "markdown",
   "id": "cd247936",
   "metadata": {},
   "source": [
    "< [Table of Contents](#top) | [References](#references) >\n",
    "<a id=\"solutionttest\"></a>\n",
    "***\n",
    "### T-Test\n",
    "***"
   ]
  },
  {
   "cell_type": "markdown",
   "id": "cbf88142",
   "metadata": {},
   "source": [
    "- the ``t-test`` is testing the probability that the distribution from which the two generated collections (``a`` and ``b``) have the same mean [3]"
   ]
  },
  {
   "cell_type": "markdown",
   "id": "43ccb0dc",
   "metadata": {},
   "source": [
    "- two different methods: i. ``scipy.stats`` and; ii. ``statsmodels.stats.weightstats`` [3]"
   ]
  },
  {
   "cell_type": "markdown",
   "id": "8b521a1d",
   "metadata": {},
   "source": [
    "< [Table of Contents](#top) | [References](#references) >\n",
    "<a id=\"solutionscipystats\"></a>\n",
    "***\n",
    "###### ``scipy.stats``\n",
    "***"
   ]
  },
  {
   "cell_type": "code",
   "execution_count": 28,
   "id": "5f431aa4",
   "metadata": {},
   "outputs": [],
   "source": [
    "import scipy.stats as ss"
   ]
  },
  {
   "cell_type": "code",
   "execution_count": 29,
   "id": "381c3b21",
   "metadata": {},
   "outputs": [
    {
     "name": "stdout",
     "output_type": "stream",
     "text": [
      "This module contains a large number of probability distributions as\n",
      "well as a growing library of statistical functions.\n"
     ]
    }
   ],
   "source": [
    "print(\"\\n\".join(ss.__doc__.split(\"\\n\")[9:11]))"
   ]
  },
  {
   "cell_type": "markdown",
   "id": "3db36499",
   "metadata": {},
   "source": [
    "- returning the p-value (``p_ss``) from ``scipy.stats.ttest_ind`` [3]"
   ]
  },
  {
   "cell_type": "markdown",
   "id": "cb1b6a2c",
   "metadata": {},
   "source": [
    "- function ``ttest_ind`` is asking what is the probability (based on a few assumptions) that the numbers in the collection ``a`` and the numbers in the collection ``b`` had an underlying distribution in which both had the same average value [3]"
   ]
  },
  {
   "cell_type": "markdown",
   "id": "8d1b7da7",
   "metadata": {},
   "source": [
    "- testing if there is sufficient evidence that the values in ``a`` and ``b`` are grouped around the same point (simulation is gamed so that this is not the case) [3]"
   ]
  },
  {
   "cell_type": "code",
   "execution_count": 30,
   "id": "7fbef74d",
   "metadata": {},
   "outputs": [
    {
     "name": "stdout",
     "output_type": "stream",
     "text": [
      "    This is a two-sided test for the null hypothesis that 2 independent samples\n",
      "    have identical average (expected) values. This test assumes that the\n",
      "    populations have identical variances by default.\n"
     ]
    }
   ],
   "source": [
    "print(\"\\n\".join(ss.ttest_ind.__doc__.split(\"\\n\")[3:6]))"
   ]
  },
  {
   "cell_type": "code",
   "execution_count": 31,
   "id": "72516b56",
   "metadata": {},
   "outputs": [
    {
     "name": "stdout",
     "output_type": "stream",
     "text": [
      "    Notes\n",
      "    -----\n",
      "    We can use this test, if we observe two independent samples from\n",
      "    the same or different population, e.g. exam scores of boys and\n",
      "    girls or of two ethnic groups. The test measures whether the\n",
      "    average (expected) value differs significantly across samples. If\n",
      "    we observe a large p-value, for example larger than 0.05 or 0.1,\n",
      "    then we cannot reject the null hypothesis of identical average scores.\n",
      "    If the p-value is smaller than the threshold, e.g. 1%, 5% or 10%,\n",
      "    then we reject the null hypothesis of equal averages.\n",
      "\n",
      "    References\n",
      "    ----------\n",
      "    .. [1] https://en.wikipedia.org/wiki/T-test#Independent_two-sample_t-test\n",
      "\n",
      "    .. [2] https://en.wikipedia.org/wiki/Welch%27s_t-test\n"
     ]
    }
   ],
   "source": [
    "print(\"\\n\".join(ss.ttest_ind.__doc__.split(\"\\n\")[46:62]))"
   ]
  },
  {
   "cell_type": "code",
   "execution_count": 32,
   "id": "93f30b70",
   "metadata": {},
   "outputs": [],
   "source": [
    "t_ss,p_ss=ss.ttest_ind(a=a,b=b)"
   ]
  },
  {
   "cell_type": "markdown",
   "id": "57f22263",
   "metadata": {},
   "source": [
    "- probability of approximately zero returned - typically a p-value cutoff of $0.05$ is used (5% chance of making the wrong decision) [3]"
   ]
  },
  {
   "cell_type": "code",
   "execution_count": 33,
   "id": "f7bfd024",
   "metadata": {},
   "outputs": [
    {
     "name": "stdout",
     "output_type": "stream",
     "text": [
      "0.00\n"
     ]
    }
   ],
   "source": [
    "print(f\"{p_ss:0.2f}\")"
   ]
  },
  {
   "cell_type": "markdown",
   "id": "ebc11ea9",
   "metadata": {},
   "source": [
    "- the ``t-test`` is suggesting there is almost a 0% chance (zero probability) that the numbers in the collection ``a`` and the collection ``b`` are grouped around the same point on the y-axis [3]"
   ]
  },
  {
   "cell_type": "markdown",
   "id": "1df63465",
   "metadata": {},
   "source": [
    "- there is sufficient evidence to suggest the numbers in the collection ``a`` are different from the numbers in the collection ``b`` (specifically the mean of the distribution they came from) [3]"
   ]
  },
  {
   "cell_type": "markdown",
   "id": "e2bc855e",
   "metadata": {},
   "source": [
    "- can identify the numbers in both collections (``a`` and ``b``) are different by observing the plot - running the statistical test provide evidence that its reproducibly true [3] "
   ]
  },
  {
   "cell_type": "code",
   "execution_count": 34,
   "id": "7d1efeba",
   "metadata": {
    "scrolled": false
   },
   "outputs": [
    {
     "data": {
      "image/png": "[encoded data removed]",
      "text/plain": [
       "<Figure size 360x360 with 1 Axes>"
      ]
     },
     "metadata": {},
     "output_type": "display_data"
    }
   ],
   "source": [
    "sns.catplot(x=\"Category\",y=\"Value\",jitter=False,data=df);"
   ]
  },
  {
   "cell_type": "markdown",
   "id": "3589e193",
   "metadata": {},
   "source": [
    "- now centering the collections (``a`` and ``b``) around the same value [3]"
   ]
  },
  {
   "cell_type": "markdown",
   "id": "b17c9902",
   "metadata": {},
   "source": [
    "- collection ``a`` is unchanged [3] "
   ]
  },
  {
   "cell_type": "code",
   "execution_count": 35,
   "id": "c51ea679",
   "metadata": {},
   "outputs": [
    {
     "data": {
      "text/plain": [
       "1.0"
      ]
     },
     "execution_count": 35,
     "metadata": {},
     "output_type": "execute_result"
    }
   ],
   "source": [
    "m_a"
   ]
  },
  {
   "cell_type": "code",
   "execution_count": 36,
   "id": "cd7d49cb",
   "metadata": {},
   "outputs": [],
   "source": [
    "m_b=m_a"
   ]
  },
  {
   "cell_type": "code",
   "execution_count": 37,
   "id": "4c154771",
   "metadata": {},
   "outputs": [
    {
     "data": {
      "text/plain": [
       "1.0"
      ]
     },
     "execution_count": 37,
     "metadata": {},
     "output_type": "execute_result"
    }
   ],
   "source": [
    "m_b"
   ]
  },
  {
   "cell_type": "code",
   "execution_count": 38,
   "id": "1c7246a1",
   "metadata": {},
   "outputs": [],
   "source": [
    "b=np.random.normal(loc=m_b,scale=s_b,size=N) # generate collection b"
   ]
  },
  {
   "cell_type": "code",
   "execution_count": 39,
   "id": "53ca7568",
   "metadata": {},
   "outputs": [],
   "source": [
    "df=pd.DataFrame(data={\"Category\":[\"A\"]*len(a)+[\"B\"]*len(b),\"Value\":np.hstack([a,b])})"
   ]
  },
  {
   "cell_type": "markdown",
   "id": "507f5824",
   "metadata": {},
   "source": [
    "- gaming the system by making sure the numbers are both grouped around $1.0$ - on the plot (minds eye) looks like the ``b`` numbers are a little bit higher than the ``a`` numbers but they are not - its just random chance [3]"
   ]
  },
  {
   "cell_type": "code",
   "execution_count": 40,
   "id": "8b979ea2",
   "metadata": {
    "scrolled": false
   },
   "outputs": [
    {
     "data": {
      "image/png": "[encoded data removed]",
      "text/plain": [
       "<Figure size 360x360 with 1 Axes>"
      ]
     },
     "metadata": {},
     "output_type": "display_data"
    }
   ],
   "source": [
    "sns.catplot(x=\"Category\",y=\"Value\",jitter=False,data=df);"
   ]
  },
  {
   "cell_type": "markdown",
   "id": "8c657e25",
   "metadata": {},
   "source": [
    "- now under the assumption that ``a`` and ``b`` are centred around the same point (gamed the system) [3]"
   ]
  },
  {
   "cell_type": "code",
   "execution_count": 41,
   "id": "3a9c8503",
   "metadata": {
    "scrolled": true
   },
   "outputs": [
    {
     "name": "stdout",
     "output_type": "stream",
     "text": [
      "0.57% probability (6% chance)\n"
     ]
    }
   ],
   "source": [
    "t_ss,p_ss=ss.ttest_ind(a=a,b=b)\n",
    "print(f\"{p_ss:0.2f}% probability ({p_ss*10:.0f}% chance)\") # typical cutoff 0.05"
   ]
  },
  {
   "cell_type": "markdown",
   "id": "341a860a",
   "metadata": {},
   "source": [
    "- if the typical cutoff is $0.05$ then the statistical test does not provide any evidence they are not centred around same point - no evidence here to suggest that they are not centred around the same point because the output is too high a probability [3] "
   ]
  },
  {
   "cell_type": "markdown",
   "id": "09cc278d",
   "metadata": {},
   "source": [
    "< [Table of Contents](#top) | [References](#references) >\n",
    "<a id=\"solutionstatsmodelsstatsweightstats\"></a>\n",
    "***\n",
    "###### ``statsmodels.stats.weightstats``\n",
    "***"
   ]
  },
  {
   "cell_type": "code",
   "execution_count": 42,
   "id": "17b9c9f9",
   "metadata": {},
   "outputs": [],
   "source": [
    "import statsmodels.stats.weightstats as stat"
   ]
  },
  {
   "cell_type": "code",
   "execution_count": 43,
   "id": "4332c883",
   "metadata": {},
   "outputs": [
    {
     "name": "stdout",
     "output_type": "stream",
     "text": [
      "Tests and descriptive statistics with weights\n"
     ]
    }
   ],
   "source": [
    "print(\"\\n\".join(stat.__doc__.split(\"\\n\")[:1]))"
   ]
  },
  {
   "cell_type": "code",
   "execution_count": 44,
   "id": "5ed6d09d",
   "metadata": {},
   "outputs": [
    {
     "name": "stdout",
     "output_type": "stream",
     "text": [
      "References\n",
      "----------\n",
      "SPSS manual\n",
      "SAS manual\n",
      "\n",
      "This follows in large parts the SPSS manual, which is largely the same as\n",
      "the SAS manual with different, simpler notation.\n"
     ]
    }
   ],
   "source": [
    "print(\"\\n\".join(stat.__doc__.split(\"\\n\")[9:16]))"
   ]
  },
  {
   "cell_type": "markdown",
   "id": "466f95b9",
   "metadata": {},
   "source": [
    "- alternative package returns the same p-value (``p_sm``) [3]"
   ]
  },
  {
   "cell_type": "code",
   "execution_count": 45,
   "id": "ed81680f",
   "metadata": {},
   "outputs": [],
   "source": [
    "t_sm,p_sm,d_sm=stat.ttest_ind(x1=a,x2=b)"
   ]
  },
  {
   "cell_type": "code",
   "execution_count": 46,
   "id": "92b30262",
   "metadata": {},
   "outputs": [
    {
     "name": "stdout",
     "output_type": "stream",
     "text": [
      "0.57% probability (6% chance)\n"
     ]
    }
   ],
   "source": [
    "print(f\"{p_sm:0.2f}% probability ({p_sm*10:.0f}% chance)\") # typical cutoff 0.05"
   ]
  },
  {
   "cell_type": "markdown",
   "id": "46e5c998",
   "metadata": {},
   "source": [
    "- revert ``m_b`` to original mean value [3]"
   ]
  },
  {
   "cell_type": "code",
   "execution_count": 47,
   "id": "ec2d0352",
   "metadata": {},
   "outputs": [],
   "source": [
    "m_b=2.0"
   ]
  },
  {
   "cell_type": "code",
   "execution_count": 48,
   "id": "1f1a8cd4",
   "metadata": {},
   "outputs": [],
   "source": [
    "b=np.random.normal(loc=m_b,scale=s_b,size=N) # generate collection b"
   ]
  },
  {
   "cell_type": "markdown",
   "id": "a7384a29",
   "metadata": {},
   "source": [
    "***\n",
    "## END"
   ]
  },
  {
   "cell_type": "markdown",
   "id": "68359f1a",
   "metadata": {},
   "source": [
    "< [Table of Contents](#top) | [Abstract](#abstract) | [Introduction](#introduction) | [Conclusion](#conclusion) | [References](#references) >\n",
    "<a id=\"solution\"></a>\n",
    "***\n",
    "## Solution\n",
    "***"
   ]
  },
  {
   "cell_type": "markdown",
   "id": "b811426f",
   "metadata": {},
   "source": [
    "- need to build up an intuition about what a ``t-test`` does [4]"
   ]
  },
  {
   "cell_type": "markdown",
   "id": "9c9039cb",
   "metadata": {},
   "source": [
    "- ``scipy.stats`` or ``statsmodels.stats.weightstats`` does the heavy lifting but its important to understand what assumptions are made going into the test and how the outputs are interpreted [4]"
   ]
  },
  {
   "cell_type": "markdown",
   "id": "f57d09ae",
   "metadata": {},
   "source": [
    "- the values in the collection ``a`` come from a distribution centered around ``m_a`` [4]"
   ]
  },
  {
   "cell_type": "code",
   "execution_count": 49,
   "id": "366e4e31",
   "metadata": {},
   "outputs": [
    {
     "data": {
      "text/plain": [
       "1.0"
      ]
     },
     "execution_count": 49,
     "metadata": {},
     "output_type": "execute_result"
    }
   ],
   "source": [
    "m_a # mean collection a"
   ]
  },
  {
   "cell_type": "code",
   "execution_count": 50,
   "id": "17bd2ffa",
   "metadata": {
    "scrolled": true
   },
   "outputs": [
    {
     "data": {
      "text/plain": [
       "array([0.72881369, 1.10953323, 1.23116135, 1.49675141, 0.91669004,\n",
       "       1.00702177, 1.15305935, 0.75812175, 0.42152549, 0.72885244,\n",
       "       0.61461782, 1.26332986, 1.19034458, 0.1810272 , 0.61977613,\n",
       "       0.33888332, 0.85674   , 0.79377683, 0.93263915, 0.56314954,\n",
       "       1.14149448, 0.9947962 , 1.29987563, 1.34172417, 0.65368019,\n",
       "       0.50276457, 1.24633547, 0.83709992, 1.54615722, 1.21304785,\n",
       "       0.90215752, 1.16567069, 0.93841826, 1.15656691, 0.31116253,\n",
       "       0.85399015, 1.3033894 , 0.68092134, 0.90201417, 1.18269802])"
      ]
     },
     "execution_count": 50,
     "metadata": {},
     "output_type": "execute_result"
    }
   ],
   "source": [
    "a # centered around 1.0"
   ]
  },
  {
   "cell_type": "code",
   "execution_count": 51,
   "id": "3775c77d",
   "metadata": {},
   "outputs": [
    {
     "data": {
      "text/plain": [
       "2.0"
      ]
     },
     "execution_count": 51,
     "metadata": {},
     "output_type": "execute_result"
    }
   ],
   "source": [
    "m_b # mean collection b"
   ]
  },
  {
   "cell_type": "markdown",
   "id": "b612d4a9",
   "metadata": {},
   "source": [
    "- if repeatedly asked to randomly pick a number between one and ten (generate one-thousand numbers) totally independent of each other then would expect if truly random (not great at as humans) out of the one-thousand numbers that $10\\%$ would be $1$ and $10\\%$ would be 2 and $10\\%$ would be $3$ and so on - every number would have the same chance of being picked [4]"
   ]
  },
  {
   "cell_type": "markdown",
   "id": "d71f008d",
   "metadata": {},
   "source": [
    "- whether that actually happened or not does not really matter - what matters is that as the number of guesses increases does the numbers stay uniform at having a 10% chance of being picked out (called a uniform distribution and is usually how randomness is thought of) [4]"
   ]
  },
  {
   "cell_type": "code",
   "execution_count": 52,
   "id": "c3464efe",
   "metadata": {},
   "outputs": [
    {
     "name": "stdout",
     "output_type": "stream",
     "text": [
      "    Return evenly spaced numbers over a specified interval.\n",
      "\n",
      "    Returns `num` evenly spaced samples, calculated over the\n",
      "    interval [`start`, `stop`].\n"
     ]
    }
   ],
   "source": [
    "print(\"\\n\".join(np.linspace.__doc__.split(\"\\n\")[1:5]))"
   ]
  },
  {
   "cell_type": "code",
   "execution_count": 53,
   "id": "bc900423",
   "metadata": {},
   "outputs": [],
   "source": [
    "x=np.linspace(start=-2,stop=4,num=1000)"
   ]
  },
  {
   "cell_type": "markdown",
   "id": "066d84ad",
   "metadata": {},
   "source": [
    "< [Table of Contents](#top) | [References](#references) >\n",
    "<a id=\"solutionProbabilityDensityFunction\"></a>\n",
    "***\n",
    "###### PDF\n",
    "***"
   ]
  },
  {
   "cell_type": "markdown",
   "id": "ec606c3e",
   "metadata": {},
   "source": [
    "- the blue curve represents the way in which the numbers in the collection ``a`` are generated (centered around ``m_a`` - the curve is very high around $1$) [4]"
   ]
  },
  {
   "cell_type": "markdown",
   "id": "c2560af4",
   "metadata": {},
   "source": [
    "- the fact that the blue curve around the $1$ mark is very high means its very likely to see numbers that are around $1$ and its much less likely to see numbers out past $2$ - the curve is very close to the $0$ point on the x-axis for numbers less than appropriately $0$ or greater than appropriately $2$ - the curve stays above the line out to infinity in the positive direction and stays above the line out to infinity in the negative direction (hugging the x-axis compared to how high it is up around the value $1$) - the curve represents how unlikely it is to see certain values (within certain ranges) [4]"
   ]
  },
  {
   "cell_type": "markdown",
   "id": "cc77a3fa",
   "metadata": {},
   "source": [
    "- the blue curve represents the uncertainty (probability density function ``PDF``) when generating numbers in the collection ``a`` and the red curve represents the uncertainty (``PDF``) when generating numbers in the collection ``b`` [4]"
   ]
  },
  {
   "cell_type": "code",
   "execution_count": 54,
   "id": "389f37a2",
   "metadata": {},
   "outputs": [
    {
     "name": "stdout",
     "output_type": "stream",
     "text": [
      "        Probability density function at x of the given RV.\n"
     ]
    }
   ],
   "source": [
    "print(\"\\n\".join(ss.norm.pdf.__doc__.split(\"\\n\")[1:2]))"
   ]
  },
  {
   "cell_type": "code",
   "execution_count": 55,
   "id": "e086c9b7",
   "metadata": {},
   "outputs": [],
   "source": [
    "y_a=ss.norm.pdf(x=x,loc=m_a,scale=s_a)"
   ]
  },
  {
   "cell_type": "code",
   "execution_count": 56,
   "id": "7f95f7c1",
   "metadata": {},
   "outputs": [],
   "source": [
    "y_b=ss.norm.pdf(x=x,loc=m_b,scale=s_b) # pdf collection b"
   ]
  },
  {
   "cell_type": "markdown",
   "id": "b6cb31a1",
   "metadata": {},
   "source": [
    "- in the real world this kind of randomness (blue curve) occurs very frequently - if measuring the heights of men in Ireland would probably find there is an average value (probably $1.6$ or $1.8$ metres) that most men in Ireland is centered around - it is very likely that when measuring a random height it will be somewhere in around $1.7$ - its very unlikely to see somebody up around $2.5$ and very unlikely to see somebody down around $0.5$ - those two extremes do happen but its just very unlikely - the vast majority of people are going to be centered around the same point [4]"
   ]
  },
  {
   "cell_type": "markdown",
   "id": "7cc69037",
   "metadata": {},
   "source": [
    "- normal (blue) curve represents a different type of randomness when compared with picking a number between one and ten which is a uniform distribution (every value is likely) - collection ``a`` is a normal distribution with the generated values centered around $1$ - moving away from $1$ the values become less and less likely (the red line is the same thing but for the collection ``b``) [4]"
   ]
  },
  {
   "cell_type": "markdown",
   "id": "e0686f2d",
   "metadata": {},
   "source": [
    "- its important to note that in the real world the blue line and the red line are unknown (making the assumption they are nice bell shaped curves) - do not know where the tip of each of the two curves are [4]"
   ]
  },
  {
   "cell_type": "markdown",
   "id": "bf50c219",
   "metadata": {},
   "source": [
    "- the ``t-test`` is checking (questions) if the the tip of both curves (i. blue curve and; ii. red curve) are at the same point or not [4]"
   ]
  },
  {
   "cell_type": "code",
   "execution_count": 57,
   "id": "a7775dbb",
   "metadata": {},
   "outputs": [
    {
     "data": {
      "image/png": "[encoded data removed]",
      "text/plain": [
       "<Figure size 921.6x518.4 with 1 Axes>"
      ]
     },
     "metadata": {},
     "output_type": "display_data"
    }
   ],
   "source": [
    "fig,ax=plt.subplots()\n",
    "ax.plot(x,y_a)\n",
    "ax.plot(x,y_b,\"r:\");"
   ]
  },
  {
   "cell_type": "markdown",
   "id": "dbc5a6cc",
   "metadata": {},
   "source": [
    "- centering both collections (``a`` and ``b``) around the same value ($1$) then the blue and red curves coincide [4]"
   ]
  },
  {
   "cell_type": "code",
   "execution_count": 58,
   "id": "ec15d90a",
   "metadata": {},
   "outputs": [
    {
     "data": {
      "text/plain": [
       "1.0"
      ]
     },
     "execution_count": 58,
     "metadata": {},
     "output_type": "execute_result"
    }
   ],
   "source": [
    "m_a"
   ]
  },
  {
   "cell_type": "code",
   "execution_count": 59,
   "id": "bfe3abdb",
   "metadata": {},
   "outputs": [],
   "source": [
    "m_b=m_a"
   ]
  },
  {
   "cell_type": "code",
   "execution_count": 60,
   "id": "19d5406a",
   "metadata": {},
   "outputs": [
    {
     "data": {
      "text/plain": [
       "1.0"
      ]
     },
     "execution_count": 60,
     "metadata": {},
     "output_type": "execute_result"
    }
   ],
   "source": [
    "m_b"
   ]
  },
  {
   "cell_type": "markdown",
   "id": "91c2d8ef",
   "metadata": {},
   "source": [
    "- the ``t-test`` is checking if this assumption is true (both collections hitting the same point) [4]"
   ]
  },
  {
   "cell_type": "markdown",
   "id": "187b45aa",
   "metadata": {},
   "source": [
    "- gamed the system (created a fake dataset) knowing the collection ``a`` and the collection ``b`` are different [4]"
   ]
  },
  {
   "cell_type": "markdown",
   "id": "d1feb456",
   "metadata": {},
   "source": [
    "- the ``t-test`` is checking to see if they are the same or if there is any evidence that they are not the same (checking if the tips of the curves are the same or not) [4] "
   ]
  },
  {
   "cell_type": "code",
   "execution_count": 61,
   "id": "8dc5b402",
   "metadata": {},
   "outputs": [
    {
     "data": {
      "image/png": "[encoded data removed]",
      "text/plain": [
       "<Figure size 921.6x518.4 with 1 Axes>"
      ]
     },
     "metadata": {},
     "output_type": "display_data"
    }
   ],
   "source": [
    "y_a=ss.norm.pdf(x=x,loc=m_a,scale=s_a)\n",
    "y_b=ss.norm.pdf(x=x,loc=m_b,scale=s_b)\n",
    "fig,ax=plt.subplots()\n",
    "ax.plot(x,y_a)\n",
    "ax.plot(x,y_b,\"r:\");"
   ]
  },
  {
   "cell_type": "markdown",
   "id": "5ddf0c3d",
   "metadata": {},
   "source": [
    "- revert ``m_b`` to original mean value [4]"
   ]
  },
  {
   "cell_type": "code",
   "execution_count": 62,
   "id": "f9746d07",
   "metadata": {},
   "outputs": [],
   "source": [
    "m_b=2"
   ]
  },
  {
   "cell_type": "markdown",
   "id": "7d5ce4c5",
   "metadata": {},
   "source": [
    "< [Table of Contents](#top) | [References](#references) >\n",
    "<a id=\"solutionAssumptions\"></a>\n",
    "***\n",
    "###### Assumptions\n",
    "***"
   ]
  },
  {
   "cell_type": "markdown",
   "id": "264b36d6",
   "metadata": {},
   "source": [
    "- an underlying assumption is that the collection ``a`` (blue) looks like a bell shaped curve (normal probability distribution) and likewise the collection ``b`` (red) has a bell shaped curve (normal probability distribution) [4]"
   ]
  },
  {
   "cell_type": "markdown",
   "id": "b48dfbb2",
   "metadata": {},
   "source": [
    "- demonstrating the standard ``t-test`` assumes the collection ``a`` (blue) and the collection ``b`` (red) are different - another assumption that is sometimes made (slightly different ``t-test``) is of the spread away from the central point - the central point of the collection ``a`` (blue) is $1$ on the x-axis and is quite a steep curve down towards $2$ and quite a steep curve down towards $0$ [4]"
   ]
  },
  {
   "cell_type": "markdown",
   "id": "fc0e285e",
   "metadata": {},
   "source": [
    "- it still has a normal probability distribution if the peak is a little bit lower and a bit more spread out - so when moving away from the central point maybe it moves away slower but is still a normal distribution only a bit more spread out [4] "
   ]
  },
  {
   "cell_type": "markdown",
   "id": "4b610ba9",
   "metadata": {},
   "source": [
    "- another assumption in the ``t-test`` is often that the spread on the collection ``a`` (blue) curve steepness as its falls away is the same as the steepness of the collection ``b`` (red) curve as its falls away therefore can determine both collections have the same standard deviation [4]"
   ]
  },
  {
   "cell_type": "code",
   "execution_count": 63,
   "id": "b82c6ad4",
   "metadata": {},
   "outputs": [
    {
     "data": {
      "image/png": "[encoded data removed]",
      "text/plain": [
       "<Figure size 921.6x518.4 with 1 Axes>"
      ]
     },
     "metadata": {},
     "output_type": "display_data"
    }
   ],
   "source": [
    "y_a=ss.norm.pdf(x=x,loc=m_a,scale=s_a)\n",
    "y_b=ss.norm.pdf(x=x,loc=m_b,scale=s_b)\n",
    "fig,ax=plt.subplots()\n",
    "ax.plot(x,y_a)\n",
    "ax.plot(x,y_b,\"r\");"
   ]
  },
  {
   "cell_type": "markdown",
   "id": "681a4f11",
   "metadata": {},
   "source": [
    "<!-- - refer [Appendix](#appendix-df) to view the full dataset <a id=\"go-back-df\"></a> -->\n",
    "<!-- print(fGetModuleType(___x___),fDocumentation(___x___)) -->\n",
    "***\n",
    "## END"
   ]
  },
  {
   "cell_type": "markdown",
   "id": "28e9ffc8",
   "metadata": {},
   "source": [
    "< [Table of Contents](#top) | [Abstract](#abstract) | [Introduction](#introduction) | [Solution](#solution) | [References](#references) >\n",
    "<a id=\"conclusion\"></a>\n",
    "***\n",
    "## Conclusion\n",
    "***"
   ]
  },
  {
   "cell_type": "markdown",
   "id": "56d5e2c1",
   "metadata": {},
   "source": [
    "- there is all sorts of problems in statistical tests that are predictable problems and these arise because there is inherence uncertainty in statistical tests [1]"
   ]
  },
  {
   "cell_type": "markdown",
   "id": "840b765a",
   "metadata": {},
   "source": [
    "***\n",
    "## END"
   ]
  },
  {
   "cell_type": "markdown",
   "id": "e0e42d51",
   "metadata": {},
   "source": [
    "< [Table of Contents](#top) | [Abstract](#abstract) | [Introduction](#introduction) | [Solution](#solution) | [Conclusion](#conclusion) | [References](#references) >\n",
    "<a id=\"references\"></a>\n",
    "***\n",
    "## References\n",
    "***\n",
    "&nbsp;&nbsp;&nbsp;&nbsp;&nbsp;&nbsp;&nbsp;&nbsp;&nbsp;[1] I. McLoughlin, \"t-tests in Python setup,\" GMIT, October 2020.\n",
    "\n",
    "&nbsp;&nbsp;&nbsp;&nbsp;&nbsp;&nbsp;&nbsp;&nbsp;&nbsp;[2] I. McLoughlin, \"Simulating data for a t-test,\" GMIT, October 2020.\n",
    "\n",
    "&nbsp;&nbsp;&nbsp;&nbsp;&nbsp;&nbsp;&nbsp;&nbsp;&nbsp;[3] I. McLoughlin, \"Running a t-test in Python,\" GMIT, October 2020.\n",
    "\n",
    "&nbsp;&nbsp;&nbsp;&nbsp;&nbsp;&nbsp;&nbsp;&nbsp;&nbsp;[4] I. McLoughlin, \"Interpreting a t-test,\" GMIT, October 2020."
   ]
  },
  {
   "cell_type": "markdown",
   "id": "b33c372a",
   "metadata": {},
   "source": [
    "***\n",
    "## END"
   ]
  },
  {
   "cell_type": "markdown",
   "id": "e5961b4d",
   "metadata": {},
   "source": [
    "< [Table of Contents](#top) | [Abstract](#abstract) | [Introduction](#introduction) | [Solution](#solution) | [Conclusion](#conclusion) | [References](#references) >\n",
    "<a id=\"appendix\"></a>\n",
    "***\n",
    "## Appendix\n",
    "***"
   ]
  },
  {
   "cell_type": "code",
   "execution_count": 64,
   "id": "0a774e76",
   "metadata": {},
   "outputs": [],
   "source": [
    "# fFile(\"./hide/01-t-tests in Python setup - 18-10-2020.mp4\")\n",
    "# fFile(\"./hide/02-Simulating data for a t-test - 18-10-2020.mp4\")\n",
    "# fFile(\"./hide/03-Running a t-test in Python - 18-10-2020.mp4\")\n",
    "# fFile(\"./hide/04-Interpreting a t-test - 18-10-2020.mp4\")\n",
    "# fFile(\"./hide/05-Errors and playing with t-tests - 18-10-2020.mp4\")\n",
    "# fFile(\"./hide/06-From t-tests to ANOVA - 23-10-2020.mp4\")\n",
    "# fFile(\"./hide/ANOVA/02-Introduction to ANOVA notebook___[Oct 2019].mp4\")\n",
    "# fFile(\"./hide/ANOVA/03-Samples and populations___[Oct 2019].mp4\")\n",
    "# fFile(\"./hide/ANOVA/04-Hypothesis testing errors___[Oct 2019].mp4\")\n",
    "# fFile(\"./hide/ANOVA/05-Hypothesis testing terminology___[Oct 2019].mp4\")\n",
    "# fFile(\"./hide/ANOVA/06-Calculation of the t statistic___[Oct 2019].mp4\")"
   ]
  },
  {
   "cell_type": "markdown",
   "id": "00d82a82",
   "metadata": {},
   "source": [
    "***\n",
    "## END"
   ]
  },
  {
   "cell_type": "markdown",
   "id": "899c1783",
   "metadata": {},
   "source": [
    "# END JUPYTER NOTEBOOK"
   ]
  }
 ],
 "metadata": {
  "kernelspec": {
   "display_name": "Python 3",
   "language": "python",
   "name": "python3"
  },
  "language_info": {
   "codemirror_mode": {
    "name": "ipython",
    "version": 3
   },
   "file_extension": ".py",
   "mimetype": "text/x-python",
   "name": "python",
   "nbconvert_exporter": "python",
   "pygments_lexer": "ipython3",
   "version": "3.8.8"
  }
 },
 "nbformat": 4,
 "nbformat_minor": 5
}
