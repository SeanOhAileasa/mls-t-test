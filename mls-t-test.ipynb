{
 "cells": [
  {
   "cell_type": "code",
   "execution_count": null,
   "id": "76b6aaa9",
   "metadata": {},
   "outputs": [
    {
     "data": {
      "text/html": [
       "<script>Jupyter.notebook.kernel.restart()</script>"
      ]
     },
     "metadata": {},
     "output_type": "display_data"
    }
   ],
   "source": [
    "from IPython.core.display import display_html\n",
    "display_html(\"<script>Jupyter.notebook.kernel.restart()</script>\",raw=True)"
   ]
  },
  {
   "cell_type": "code",
   "execution_count": 1,
   "id": "19093beb",
   "metadata": {},
   "outputs": [
    {
     "data": {
      "text/html": [
       "<style>.container { width:100% !important; }</style>"
      ],
      "text/plain": [
       "<IPython.core.display.HTML object>"
      ]
     },
     "metadata": {},
     "output_type": "display_data"
    },
    {
     "data": {
      "text/html": [
       "<style>.container { width:100% !important; }</style>"
      ],
      "text/plain": [
       "<IPython.core.display.HTML object>"
      ]
     },
     "metadata": {},
     "output_type": "display_data"
    }
   ],
   "source": [
    "from sys import path; path.insert(1,\"../src\");\n",
    "import fubar; from importlib import reload; reload(fubar);"
   ]
  },
  {
   "cell_type": "markdown",
   "id": "616b0550",
   "metadata": {},
   "source": [
    "***\n",
    "< [GMIT Data Analytics](https://web.archive.org/web/20201029063153/https://www.gmit.ie/computer-science-and-applied-physics/higher-diploma-science-computing-data-analytics-ict) | [Home](https://github.com/SeanOhAileasa) | [README](https://github.com/SeanOhAileasa/mls-t-test/blob/main/README.md) >\n",
    "\n",
    "[![GMIT](https://github.com/SeanOhAileasa/SeanOhAileasa/blob/master/rc/gmit.png?raw=true)](https://web.archive.org/web/20201029063153/https://www.gmit.ie/computer-science-and-applied-physics/higher-diploma-science-computing-data-analytics-ict)\n",
    "\n",
    "## Machine Learning & Statistics - Course Material 2021\n",
    "### Topic: [t-test](https://nbviewer.jupyter.org/github/SeanOhAileasa/mls-t-test/blob/main/mls-t-test.ipynb)\n",
    "***"
   ]
  },
  {
   "cell_type": "markdown",
   "id": "220c0602",
   "metadata": {},
   "source": [
    "Course material for the ``Machine Learning & Statistics`` module (5 Credits) of the ``Higher Diploma in Science in Computing (Data Analytics) (H.Dip)`` programme (75 Credits) at **Galway-Mayo Institute of Technology (GMIT)**."
   ]
  },
  {
   "cell_type": "markdown",
   "id": "85ba523b",
   "metadata": {},
   "source": [
    "- referenced external link - [Machine Learning & Statistics](https://nbviewer.jupyter.org/github/SeanOhAileasa/mls-machine-learning-statistics/blob/main/mls-machine-learning-statistics.ipynb)"
   ]
  },
  {
   "cell_type": "code",
   "execution_count": 2,
   "id": "c75655d3",
   "metadata": {},
   "outputs": [],
   "source": [
    "from sys import path; path.insert(1,\"../src\")\n",
    "from fubar import fFile,fMagic"
   ]
  },
  {
   "cell_type": "code",
   "execution_count": 3,
   "id": "464c029f",
   "metadata": {
    "scrolled": true
   },
   "outputs": [
    {
     "name": "stdout",
     "output_type": "stream",
     "text": [
      "# repository ./SeanOhAileasa\r\n",
      "def fFile(nParPath):\r\n",
      "    \"\"\"Start a file with its associated application.\r\n",
      "\r\n",
      "Input: nParPath\r\n",
      "Process: (os.path.realpath; os.startfile)\r\n",
      "Output: file opened with associated application\r\n",
      "\"\"\"\r\n",
      "    from os import path,startfile\r\n",
      "    return startfile(path.realpath(nParPath))\r\n",
      "# --- END ---\r\n"
     ]
    }
   ],
   "source": [
    "%%script bash\n",
    "grep -1 \"def fFile\" ../src/fubar.py -A 9"
   ]
  },
  {
   "cell_type": "markdown",
   "id": "e1449819",
   "metadata": {},
   "source": [
    "<a id=\"top\"></a>\n",
    "***\n",
    "## Table of Contents\n",
    "***\n",
    "\n",
    "## [Abstract](#abstract)\n",
    "\n",
    "## [Introduction](#introduction) \n",
    "\n",
    "* [Simulation](#simulation) <br/><br/>\n",
    "    * [``numpy``](#simulationnumpy) <br/><br/>\n",
    "        * [``random``](#simulationnumpyrandom) &#x1F6A7; <br/><br/>\n",
    "            * [``normal``](#simulationnumpyrandomnormal)&nbsp;&nbsp;|&nbsp;&nbsp;[``:loc``](#simulationnumpyrandomnormalloc)&nbsp;&nbsp;|&nbsp;&nbsp;[``:scale``](#simulationnumpyrandomnormalscale)&nbsp;&nbsp;|&nbsp;&nbsp;[``:size``](#simulationnumpyrandomnormalsize) <br/><br/>\n",
    "                * [Collections](#simulationnumpyrandomnormalFakeData) ``a`` ``b`` <br/><br/>\n",
    "    * [``pandas``](#simulationpandas) <br/><br/>\n",
    "        * [``DataFrame``](#simulationpandasDataFrame) <br/><br/>\n",
    "    * [``matplotlib``](#simulationmatplotlib) &#x1F6A7; <br/><br/>\n",
    "        * [``pyplot``](#simulationmatplotlibpyplot) <br/><br/>\n",
    "            * [``style``](#simulationmatplotlibpyplotstyle) &#x1F6A7; <br/><br/>\n",
    "                * [``use``](#simulationmatplotlibpyplotstyleuse)&nbsp;&nbsp;|&nbsp;&nbsp;[``:fivethirtyeight``](#simulationmatplotlibpyplotstyleuse) <br/><br/>           \n",
    "    * [``seaborn``](#simulationseaborn) <br/><br/>\n",
    "        * [``catplot``](#simulationseaborncatplot)\n",
    "\n",
    "## [Solution](#solution)\n",
    "\n",
    "* [``scipy``](#scipy) &#x1F6A7; <br/><br/>\n",
    "    * [``stats``](#scipystats) \n",
    "\n",
    "## [Conclusion](#conclusion)\n",
    "\n",
    "- &#x1F6A7;"
   ]
  },
  {
   "cell_type": "markdown",
   "id": "bc989e6f",
   "metadata": {},
   "source": [
    "***\n",
    "## END"
   ]
  },
  {
   "cell_type": "markdown",
   "id": "0c88ab4a",
   "metadata": {},
   "source": [
    "< [Table of Contents](#top) | [Introduction](#introduction) | [Solution](#solution) | [Conclusion](#conclusion) | [References](#references) >\n",
    "<a id=\"abstract\"></a>\n",
    "***\n",
    "## Abstract\n",
    "***"
   ]
  },
  {
   "cell_type": "code",
   "execution_count": null,
   "id": "f6fc831a",
   "metadata": {},
   "outputs": [],
   "source": [
    "# fFile(\"./hide/01-t-tests in Python setup - 18-10-2020.mp4\")"
   ]
  },
  {
   "cell_type": "markdown",
   "id": "ddaf4f0f",
   "metadata": {},
   "source": [
    "- a ``t-test`` is a statistical test that looks for differences in two lists of numbers - asks did the two lists of numbers come from what looks like the same probability distribution [1]"
   ]
  },
  {
   "cell_type": "markdown",
   "id": "33a0cd1c",
   "metadata": {},
   "source": [
    "- gives a way of checking if two lists of numbers came from populations that have the same average [1]"
   ]
  },
  {
   "cell_type": "markdown",
   "id": "e3565fcf",
   "metadata": {},
   "source": [
    "- there is an interesting relationship between the ``t-test`` and Ireland - William Sealy Gosset figured out a way to test if two sets of numbers are similar [1]"
   ]
  },
  {
   "cell_type": "markdown",
   "id": "3fa461fc",
   "metadata": {},
   "source": [
    "***\n",
    "## END"
   ]
  },
  {
   "cell_type": "markdown",
   "id": "d319e57d",
   "metadata": {},
   "source": [
    "< [Table of Contents](#top) | [Abstract](#abstract) | [Solution](#solution) | [Conclusion](#conclusion) | [References](#references) >\n",
    "<a id=\"introduction\"></a>\n",
    "***\n",
    "## Introduction\n",
    "***"
   ]
  },
  {
   "cell_type": "code",
   "execution_count": null,
   "id": "9cf6adc1",
   "metadata": {},
   "outputs": [],
   "source": [
    "# fFile(\"./hide/02-Simulating data for a t-test - 18-10-2020.mp4\")"
   ]
  },
  {
   "cell_type": "markdown",
   "id": "6e7e3f1e",
   "metadata": {},
   "source": [
    "- doing the actual ``t-test`` using ``scipy.stats`` [2]"
   ]
  },
  {
   "cell_type": "markdown",
   "id": "19d00484",
   "metadata": {},
   "source": [
    "< [Table of Contents](#top) | [References](#references) >\n",
    "<a id=\"simulation\"></a>\n",
    "***\n",
    "### Simulation\n",
    "***"
   ]
  },
  {
   "cell_type": "markdown",
   "id": "cef38aef",
   "metadata": {},
   "source": [
    "- generating two lists of random numbers [2]"
   ]
  },
  {
   "cell_type": "markdown",
   "id": "adc3a24b",
   "metadata": {},
   "source": [
    "- ``m_a`` and ``m_b`` represents the mean [2]"
   ]
  },
  {
   "cell_type": "markdown",
   "id": "793d39fc",
   "metadata": {},
   "source": [
    "- ``s_a`` and ``s_b`` (technically not quite right) represents the standard deviation [2]"
   ]
  },
  {
   "cell_type": "code",
   "execution_count": 1,
   "id": "1718df47",
   "metadata": {},
   "outputs": [],
   "source": [
    "m_a,s_a,m_b,s_b=1.0,0.4,2.0,0.4"
   ]
  },
  {
   "cell_type": "markdown",
   "id": "0bc1da36",
   "metadata": {},
   "source": [
    "- ``N`` is just a convenience parameter thrown in [2]"
   ]
  },
  {
   "cell_type": "code",
   "execution_count": 2,
   "id": "40fa1a6d",
   "metadata": {},
   "outputs": [],
   "source": [
    "N=40 # representing collection len "
   ]
  },
  {
   "cell_type": "markdown",
   "id": "4cf512fe",
   "metadata": {},
   "source": [
    "< [Table of Contents](#top) | [References](#references) >\n",
    "<a id=\"simulationnumpy\"></a>\n",
    "***\n",
    "###### ``numpy``\n",
    "***"
   ]
  },
  {
   "cell_type": "markdown",
   "id": "f85f0eeb",
   "metadata": {},
   "source": [
    "- allows the creation of really efficient big numerical collections [1]"
   ]
  },
  {
   "cell_type": "markdown",
   "id": "9eef1f80",
   "metadata": {},
   "source": [
    "- typically two-dimensional collection (rectangular) - in the second dimension of the collection all of the collections in the collection have the same length (essentially its a matrix) [1]"
   ]
  },
  {
   "cell_type": "markdown",
   "id": "f8bd20f3",
   "metadata": {},
   "source": [
    "- ``numpy`` is really good at creating a collection of collections of numbers and doing operations on them much quicker than python itself [1]"
   ]
  },
  {
   "cell_type": "markdown",
   "id": "02bd6225",
   "metadata": {},
   "source": [
    "- every element in the two-dimensional collection created with ``numpy`` is supposed to have the same type (typically a float but sometimes integers and strings) [1]"
   ]
  },
  {
   "cell_type": "code",
   "execution_count": 3,
   "id": "39ec5a66",
   "metadata": {},
   "outputs": [],
   "source": [
    "import numpy as np"
   ]
  },
  {
   "cell_type": "markdown",
   "id": "50ba08f5",
   "metadata": {},
   "source": [
    "< [Table of Contents](#top) | [References](#references) >\n",
    "<a id=\"simulationnumpyrandom\"></a>\n",
    "***\n",
    "###### ``random``\n",
    "***"
   ]
  },
  {
   "cell_type": "markdown",
   "id": "4c008636",
   "metadata": {},
   "source": [
    "&#x1F6A7;"
   ]
  },
  {
   "cell_type": "markdown",
   "id": "31d8e862",
   "metadata": {},
   "source": [
    "< [Table of Contents](#top) | [References](#references) >\n",
    "<a id=\"simulationnumpyrandomnormal\"></a>\n",
    "***\n",
    "###### ``normal``\n",
    "***"
   ]
  },
  {
   "cell_type": "markdown",
   "id": "559f26b6",
   "metadata": {},
   "source": [
    "- creating collections ``a`` and ``b`` - both are just collections of numbers wrapped in ``numpy`` arrays - takes the collection of numbers and makes them another collection of numbers with all the ``numpy`` functionality [2]"
   ]
  },
  {
   "cell_type": "markdown",
   "id": "599e5226",
   "metadata": {},
   "source": [
    "- the numbers are the same but the ``numpy`` arrays produced are more efficient than the bog-standard collection from python [2]"
   ]
  },
  {
   "cell_type": "markdown",
   "id": "4f5ac19c",
   "metadata": {},
   "source": [
    "- ``random`` function ``normal`` is going to generate random numbers on a bell-shaped curve [2]"
   ]
  },
  {
   "cell_type": "markdown",
   "id": "c1c24de2",
   "metadata": {},
   "source": [
    "< [Table of Contents](#top) | [References](#references) >\n",
    "<a id=\"simulationnumpyrandomnormalloc\"></a>\n",
    "***\n",
    "###### ``normal`` ``:loc``\n",
    "***"
   ]
  },
  {
   "cell_type": "markdown",
   "id": "32d479d9",
   "metadata": {},
   "source": [
    "- specifying the mean ``m_a`` (and ``m_b``) picks a number that comes out with an average around the mean location ``loc`` - generates a list of numbers centred around $1.0$ [2]"
   ]
  },
  {
   "cell_type": "code",
   "execution_count": 4,
   "id": "c2c90e1a",
   "metadata": {},
   "outputs": [
    {
     "data": {
      "text/plain": [
       "1.0"
      ]
     },
     "execution_count": 4,
     "metadata": {},
     "output_type": "execute_result"
    }
   ],
   "source": [
    "m_a"
   ]
  },
  {
   "cell_type": "code",
   "execution_count": 5,
   "id": "5dc630ae",
   "metadata": {},
   "outputs": [
    {
     "data": {
      "text/plain": [
       "2.0"
      ]
     },
     "execution_count": 5,
     "metadata": {},
     "output_type": "execute_result"
    }
   ],
   "source": [
    "m_b # list centered around"
   ]
  },
  {
   "cell_type": "markdown",
   "id": "e5c2f735",
   "metadata": {},
   "source": [
    "< [Table of Contents](#top) | [References](#references) >\n",
    "<a id=\"simulationnumpyrandomnormalscale\"></a>\n",
    "***\n",
    "###### ``normal`` ``:scale``\n",
    "***"
   ]
  },
  {
   "cell_type": "markdown",
   "id": "08b7ff39",
   "metadata": {},
   "source": [
    "- the ``scale`` basically means the spread according to ``s_a`` (and ``s_b``) - generally means ``s_a`` is unlikely (roughly speaking - 1 in 100 chance) to generate numbers bigger than $2.5$ and smaller than $-0.5$ (with total $40$) [2] "
   ]
  },
  {
   "cell_type": "markdown",
   "id": "75ce9db8",
   "metadata": {},
   "source": [
    "< [Table of Contents](#top) | [References](#references) >\n",
    "<a id=\"simulationnumpyrandomnormalsize\"></a>\n",
    "***\n",
    "###### ``normal`` ``:size``\n",
    "***"
   ]
  },
  {
   "cell_type": "code",
   "execution_count": 6,
   "id": "067d2bf0",
   "metadata": {},
   "outputs": [
    {
     "data": {
      "text/plain": [
       "40"
      ]
     },
     "execution_count": 6,
     "metadata": {},
     "output_type": "execute_result"
    }
   ],
   "source": [
    "N # len of collection"
   ]
  },
  {
   "cell_type": "markdown",
   "id": "c1c9f055",
   "metadata": {},
   "source": [
    "< [Table of Contents](#top) | [References](#references) >\n",
    "<a id=\"simulationnumpyrandomnormalFakeData\"></a>\n",
    "***\n",
    "###### Collections ``a`` ``b``\n",
    "***"
   ]
  },
  {
   "cell_type": "code",
   "execution_count": 7,
   "id": "f9549947",
   "metadata": {},
   "outputs": [
    {
     "data": {
      "text/plain": [
       "1.0"
      ]
     },
     "execution_count": 7,
     "metadata": {},
     "output_type": "execute_result"
    }
   ],
   "source": [
    "m_a"
   ]
  },
  {
   "cell_type": "code",
   "execution_count": 8,
   "id": "3fe02450",
   "metadata": {},
   "outputs": [
    {
     "data": {
      "text/plain": [
       "0.4"
      ]
     },
     "execution_count": 8,
     "metadata": {},
     "output_type": "execute_result"
    }
   ],
   "source": [
    "s_b"
   ]
  },
  {
   "cell_type": "code",
   "execution_count": 9,
   "id": "28608af5",
   "metadata": {},
   "outputs": [
    {
     "data": {
      "text/plain": [
       "40"
      ]
     },
     "execution_count": 9,
     "metadata": {},
     "output_type": "execute_result"
    }
   ],
   "source": [
    "N"
   ]
  },
  {
   "cell_type": "code",
   "execution_count": 10,
   "id": "9eae93aa",
   "metadata": {},
   "outputs": [],
   "source": [
    "a=np.random.normal(loc=m_a,scale=s_a,size=N)"
   ]
  },
  {
   "cell_type": "code",
   "execution_count": 11,
   "id": "6b5da559",
   "metadata": {},
   "outputs": [
    {
     "data": {
      "text/plain": [
       "array([1.41535647, 0.65297171, 1.11466996, 0.96092594, 0.85212105,\n",
       "       0.79517006, 0.70591747, 1.37616685, 1.62558583, 0.61866738,\n",
       "       1.07219214, 0.94708684, 0.68399699, 1.06375605, 1.05424727,\n",
       "       1.11610179, 1.40240457, 0.50988314, 0.67945291, 0.80532356,\n",
       "       0.57062282, 0.5396679 , 1.13404599, 0.37966318, 1.31132548,\n",
       "       0.96300024, 0.96192267, 1.06995418, 0.73352621, 1.11296666,\n",
       "       0.67804084, 1.26211285, 1.29900724, 1.31877218, 1.52768162,\n",
       "       1.44466168, 0.8120703 , 0.75072043, 1.10953452, 0.82854613])"
      ]
     },
     "execution_count": 11,
     "metadata": {},
     "output_type": "execute_result"
    }
   ],
   "source": [
    "a"
   ]
  },
  {
   "cell_type": "code",
   "execution_count": 12,
   "id": "420e557d",
   "metadata": {},
   "outputs": [
    {
     "data": {
      "text/plain": [
       "2.0"
      ]
     },
     "execution_count": 12,
     "metadata": {},
     "output_type": "execute_result"
    }
   ],
   "source": [
    "m_b"
   ]
  },
  {
   "cell_type": "code",
   "execution_count": 13,
   "id": "36e54043",
   "metadata": {},
   "outputs": [
    {
     "data": {
      "text/plain": [
       "0.4"
      ]
     },
     "execution_count": 13,
     "metadata": {},
     "output_type": "execute_result"
    }
   ],
   "source": [
    "s_b"
   ]
  },
  {
   "cell_type": "code",
   "execution_count": 14,
   "id": "7beeedf0",
   "metadata": {},
   "outputs": [],
   "source": [
    "b=np.random.normal(loc=m_b,scale=s_b,size=N)"
   ]
  },
  {
   "cell_type": "code",
   "execution_count": 15,
   "id": "d345d812",
   "metadata": {},
   "outputs": [
    {
     "data": {
      "text/plain": [
       "array([2.59956411, 2.2525032 , 2.07191427, 2.24554592, 1.46257655,\n",
       "       2.69319695, 2.19901995, 2.48630818, 2.14275914, 2.60383744,\n",
       "       1.75544283, 1.5873331 , 1.933721  , 1.74289778, 2.22907796,\n",
       "       1.59304593, 2.62458299, 1.79287323, 2.45067785, 2.26363218,\n",
       "       2.32997724, 1.80397354, 1.88736529, 1.90327781, 2.27393435,\n",
       "       2.11403369, 2.54573331, 2.44142764, 2.45557236, 1.73316153,\n",
       "       2.30627168, 2.09675105, 2.33480005, 2.3314993 , 2.11224737,\n",
       "       2.27105925, 1.97482183, 1.85998014, 1.62732754, 1.9666183 ])"
      ]
     },
     "execution_count": 15,
     "metadata": {},
     "output_type": "execute_result"
    }
   ],
   "source": [
    "b"
   ]
  },
  {
   "cell_type": "markdown",
   "id": "522ceb14",
   "metadata": {},
   "source": [
    "< [Table of Contents](#top) | [References](#references) >\n",
    "<a id=\"simulationpandas\"></a>\n",
    "***\n",
    "###### ``pandas``\n",
    "***"
   ]
  },
  {
   "cell_type": "markdown",
   "id": "336ab8d5",
   "metadata": {},
   "source": [
    "- creates a data structure built from the ``numpy`` collection and allows different types for the columns - (an abstraction on top of ``numpy``) [1]"
   ]
  },
  {
   "cell_type": "code",
   "execution_count": 16,
   "id": "5eae3fe7",
   "metadata": {},
   "outputs": [],
   "source": [
    "import pandas as pd"
   ]
  },
  {
   "cell_type": "markdown",
   "id": "dc1abc2e",
   "metadata": {},
   "source": [
    "< [Table of Contents](#top) | [References](#references) >\n",
    "<a id=\"simulationpandasDataFrame\"></a>\n",
    "***\n",
    "###### ``DataFrame``\n",
    "***"
   ]
  },
  {
   "cell_type": "markdown",
   "id": "b2b9d15e",
   "metadata": {},
   "source": [
    "- creating a ``DataFrame`` of the ``a`` and ``b`` collections [2] "
   ]
  },
  {
   "cell_type": "markdown",
   "id": "783fca62",
   "metadata": {},
   "source": [
    "- ``A`` is going to be in the column beside the ``a`` collection - ``B`` is going to be in the column beside the ``b`` collection [2]"
   ]
  },
  {
   "cell_type": "markdown",
   "id": "83916176",
   "metadata": {},
   "source": [
    "- the ``a`` collection is meant to be centred around $1.0$ (beside the ``A``) - the ``b`` collection is meant to be centred around $2.0$ (beside the ``B``) [2]"
   ]
  },
  {
   "cell_type": "code",
   "execution_count": 17,
   "id": "8a712627",
   "metadata": {},
   "outputs": [],
   "source": [
    "df=pd.DataFrame({\n",
    "    \"Category\":[\"A\"]*len(a)+[\"B\"]*len(b),\n",
    "    \"Value\":np.hstack([a,b])})"
   ]
  },
  {
   "cell_type": "code",
   "execution_count": 18,
   "id": "43542043",
   "metadata": {},
   "outputs": [
    {
     "data": {
      "text/html": [
       "<div>\n",
       "<style scoped>\n",
       "    .dataframe tbody tr th:only-of-type {\n",
       "        vertical-align: middle;\n",
       "    }\n",
       "\n",
       "    .dataframe tbody tr th {\n",
       "        vertical-align: top;\n",
       "    }\n",
       "\n",
       "    .dataframe thead th {\n",
       "        text-align: right;\n",
       "    }\n",
       "</style>\n",
       "<table border=\"1\" class=\"dataframe\">\n",
       "  <thead>\n",
       "    <tr style=\"text-align: right;\">\n",
       "      <th></th>\n",
       "      <th>Category</th>\n",
       "      <th>Value</th>\n",
       "    </tr>\n",
       "  </thead>\n",
       "  <tbody>\n",
       "    <tr>\n",
       "      <th>0</th>\n",
       "      <td>A</td>\n",
       "      <td>1.415356</td>\n",
       "    </tr>\n",
       "    <tr>\n",
       "      <th>1</th>\n",
       "      <td>A</td>\n",
       "      <td>0.652972</td>\n",
       "    </tr>\n",
       "    <tr>\n",
       "      <th>2</th>\n",
       "      <td>A</td>\n",
       "      <td>1.114670</td>\n",
       "    </tr>\n",
       "    <tr>\n",
       "      <th>3</th>\n",
       "      <td>A</td>\n",
       "      <td>0.960926</td>\n",
       "    </tr>\n",
       "    <tr>\n",
       "      <th>4</th>\n",
       "      <td>A</td>\n",
       "      <td>0.852121</td>\n",
       "    </tr>\n",
       "    <tr>\n",
       "      <th>...</th>\n",
       "      <td>...</td>\n",
       "      <td>...</td>\n",
       "    </tr>\n",
       "    <tr>\n",
       "      <th>75</th>\n",
       "      <td>B</td>\n",
       "      <td>2.271059</td>\n",
       "    </tr>\n",
       "    <tr>\n",
       "      <th>76</th>\n",
       "      <td>B</td>\n",
       "      <td>1.974822</td>\n",
       "    </tr>\n",
       "    <tr>\n",
       "      <th>77</th>\n",
       "      <td>B</td>\n",
       "      <td>1.859980</td>\n",
       "    </tr>\n",
       "    <tr>\n",
       "      <th>78</th>\n",
       "      <td>B</td>\n",
       "      <td>1.627328</td>\n",
       "    </tr>\n",
       "    <tr>\n",
       "      <th>79</th>\n",
       "      <td>B</td>\n",
       "      <td>1.966618</td>\n",
       "    </tr>\n",
       "  </tbody>\n",
       "</table>\n",
       "<p>80 rows × 2 columns</p>\n",
       "</div>"
      ],
      "text/plain": [
       "   Category     Value\n",
       "0         A  1.415356\n",
       "1         A  0.652972\n",
       "2         A  1.114670\n",
       "3         A  0.960926\n",
       "4         A  0.852121\n",
       "..      ...       ...\n",
       "75        B  2.271059\n",
       "76        B  1.974822\n",
       "77        B  1.859980\n",
       "78        B  1.627328\n",
       "79        B  1.966618\n",
       "\n",
       "[80 rows x 2 columns]"
      ]
     },
     "execution_count": 18,
     "metadata": {},
     "output_type": "execute_result"
    }
   ],
   "source": [
    "df"
   ]
  },
  {
   "cell_type": "markdown",
   "id": "e3307ab8",
   "metadata": {},
   "source": [
    "< [Table of Contents](#top) | [References](#references) >\n",
    "<a id=\"simulationmatplotlib\"></a>\n",
    "***\n",
    "###### ``matplotlib``\n",
    "***"
   ]
  },
  {
   "cell_type": "markdown",
   "id": "53b6a63f",
   "metadata": {},
   "source": [
    "&#x1F6A7;"
   ]
  },
  {
   "cell_type": "markdown",
   "id": "1aa05dbe",
   "metadata": {},
   "source": [
    "< [Table of Contents](#top) | [References](#references) >\n",
    "<a id=\"simulationmatplotlibpyplot\"></a>\n",
    "***\n",
    "###### ``pyplot``\n",
    "***"
   ]
  },
  {
   "cell_type": "code",
   "execution_count": 19,
   "id": "a1d5c093",
   "metadata": {},
   "outputs": [],
   "source": [
    "import matplotlib.pyplot as plt"
   ]
  },
  {
   "cell_type": "markdown",
   "id": "5b9f3f41",
   "metadata": {},
   "source": [
    "< [Table of Contents](#top) | [References](#references) >\n",
    "<a id=\"simulationmatplotlibpyplotstyle\"></a>\n",
    "***\n",
    "###### ``style``\n",
    "***"
   ]
  },
  {
   "cell_type": "markdown",
   "id": "b2946a88",
   "metadata": {},
   "source": [
    "&#x1F6A7;"
   ]
  },
  {
   "cell_type": "markdown",
   "id": "94f98568",
   "metadata": {},
   "source": [
    "< [Table of Contents](#top) | [References](#references) >\n",
    "<a id=\"simulationmatplotlibpyplotstyleuse\"></a>\n",
    "***\n",
    "###### ``use`` ``:fivethirtyeight``\n",
    "***"
   ]
  },
  {
   "cell_type": "code",
   "execution_count": 20,
   "id": "488f7e85",
   "metadata": {},
   "outputs": [],
   "source": [
    "plt.style.use(\"fivethirtyeight\")"
   ]
  },
  {
   "cell_type": "markdown",
   "id": "eaded40c",
   "metadata": {},
   "source": [
    "< [Table of Contents](#top) | [References](#references) >\n",
    "<a id=\"simulationseaborn\"></a>\n",
    "***\n",
    "###### ``seaborn``\n",
    "***"
   ]
  },
  {
   "cell_type": "markdown",
   "id": "10a130ef",
   "metadata": {},
   "source": [
    "- getting a picture of whats going on [2]"
   ]
  },
  {
   "cell_type": "code",
   "execution_count": 21,
   "id": "46e68497",
   "metadata": {},
   "outputs": [],
   "source": [
    "import seaborn as sns"
   ]
  },
  {
   "cell_type": "markdown",
   "id": "e071b424",
   "metadata": {},
   "source": [
    "< [Table of Contents](#top) | [References](#references) >\n",
    "<a id=\"simulationseaborncatplot\"></a>\n",
    "***\n",
    "###### ``catplot``\n",
    "***"
   ]
  },
  {
   "cell_type": "code",
   "execution_count": 22,
   "id": "7434e8d0",
   "metadata": {
    "scrolled": false
   },
   "outputs": [
    {
     "data": {
      "image/png": "[encoded data removed]",
      "text/plain": [
       "<Figure size 360x360 with 1 Axes>"
      ]
     },
     "metadata": {},
     "output_type": "display_data"
    }
   ],
   "source": [
    "sns.catplot(x=\"Category\",y=\"Value\",jitter=False,data=df);"
   ]
  },
  {
   "cell_type": "markdown",
   "id": "c8781b87",
   "metadata": {},
   "source": [
    "***\n",
    "## END"
   ]
  },
  {
   "cell_type": "markdown",
   "id": "f1291269",
   "metadata": {},
   "source": [
    "< [Table of Contents](#top) | [Abstract](#abstract) | [Introduction](#introduction) | [Conclusion](#conclusion) | [References](#references) >\n",
    "<a id=\"solution\"></a>\n",
    "***\n",
    "## Solution\n",
    "***"
   ]
  },
  {
   "cell_type": "markdown",
   "id": "009ba469",
   "metadata": {},
   "source": [
    "< [Table of Contents](#top) | [References](#references) >\n",
    "<a id=\"scipy\"></a>\n",
    "***\n",
    "###### ``scipy``\n",
    "***"
   ]
  },
  {
   "cell_type": "markdown",
   "id": "fcd80bae",
   "metadata": {},
   "source": [
    "&#x1F6A7; "
   ]
  },
  {
   "cell_type": "markdown",
   "id": "c90e5858",
   "metadata": {},
   "source": [
    "< [Table of Contents](#top) | [References](#references) >\n",
    "<a id=\"scipystats\"></a>\n",
    "***\n",
    "###### ``stats``\n",
    "***"
   ]
  },
  {
   "cell_type": "code",
   "execution_count": null,
   "id": "3cbf52b2",
   "metadata": {},
   "outputs": [],
   "source": [
    "# import scipy.stats as ss"
   ]
  },
  {
   "cell_type": "markdown",
   "id": "77823ab9",
   "metadata": {},
   "source": [
    "- want the ``t-test`` to tell whether the numbers came from a distribution [2]"
   ]
  },
  {
   "cell_type": "markdown",
   "id": "ed4ca772",
   "metadata": {},
   "source": [
    "- so the whole point of the t-test here is for ``scipy.stats`` to tell whether the ``A`` numbers are different from the ``B`` numbers [2]"
   ]
  },
  {
   "cell_type": "markdown",
   "id": "681a4f11",
   "metadata": {},
   "source": [
    "<!-- - refer [Appendix](#appendix-df) to view the full dataset <a id=\"go-back-df\"></a> -->\n",
    "<!-- print(fGetModuleType(___x___),fDocumentation(___x___)) -->\n",
    "***\n",
    "## END"
   ]
  },
  {
   "cell_type": "markdown",
   "id": "28e9ffc8",
   "metadata": {},
   "source": [
    "< [Table of Contents](#top) | [Abstract](#abstract) | [Introduction](#introduction) | [Solution](#solution) | [References](#references) >\n",
    "<a id=\"conclusion\"></a>\n",
    "***\n",
    "## Conclusion\n",
    "***"
   ]
  },
  {
   "cell_type": "markdown",
   "id": "56d5e2c1",
   "metadata": {},
   "source": [
    "&#x1F6A7;"
   ]
  },
  {
   "cell_type": "markdown",
   "id": "840b765a",
   "metadata": {},
   "source": [
    "***\n",
    "## END"
   ]
  },
  {
   "cell_type": "markdown",
   "id": "e0e42d51",
   "metadata": {},
   "source": [
    "< [Table of Contents](#top) | [Abstract](#abstract) | [Introduction](#introduction) | [Solution](#solution) | [Conclusion](#conclusion) | [References](#references) >\n",
    "<a id=\"references\"></a>\n",
    "***\n",
    "## References\n",
    "***\n",
    "&nbsp;&nbsp;&nbsp;&nbsp;&nbsp;&nbsp;&nbsp;&nbsp;&nbsp;[1] I. McLoughlin, \"t-tests in Python setup,\" GMIT, October 2020.\n",
    "\n",
    "&nbsp;&nbsp;&nbsp;&nbsp;&nbsp;&nbsp;&nbsp;&nbsp;&nbsp;[2] I. McLoughlin, \"Simulating data for a t-test,\" GMIT, October 2020."
   ]
  },
  {
   "cell_type": "markdown",
   "id": "b33c372a",
   "metadata": {},
   "source": [
    "***\n",
    "## END"
   ]
  },
  {
   "cell_type": "markdown",
   "id": "e5961b4d",
   "metadata": {},
   "source": [
    "< [Table of Contents](#top) | [Abstract](#abstract) | [Introduction](#introduction) | [Solution](#solution) | [Conclusion](#conclusion) | [References](#references) >\n",
    "<a id=\"appendix\"></a>\n",
    "***\n",
    "## Appendix\n",
    "***"
   ]
  },
  {
   "cell_type": "markdown",
   "id": "60dbd39f",
   "metadata": {},
   "source": [
    "&#x1F6A7;"
   ]
  },
  {
   "cell_type": "markdown",
   "id": "00d82a82",
   "metadata": {},
   "source": [
    "***\n",
    "## END"
   ]
  },
  {
   "cell_type": "markdown",
   "id": "899c1783",
   "metadata": {},
   "source": [
    "# END JUPYTER NOTEBOOK"
   ]
  }
 ],
 "metadata": {
  "kernelspec": {
   "display_name": "Python 3",
   "language": "python",
   "name": "python3"
  },
  "language_info": {
   "codemirror_mode": {
    "name": "ipython",
    "version": 3
   },
   "file_extension": ".py",
   "mimetype": "text/x-python",
   "name": "python",
   "nbconvert_exporter": "python",
   "pygments_lexer": "ipython3",
   "version": "3.8.8"
  }
 },
 "nbformat": 4,
 "nbformat_minor": 5
}
