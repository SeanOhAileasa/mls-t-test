{
 "cells": [
  {
   "cell_type": "code",
   "execution_count": null,
   "id": "76b6aaa9",
   "metadata": {},
   "outputs": [
    {
     "data": {
      "text/html": [
       "<script>Jupyter.notebook.kernel.restart()</script>"
      ]
     },
     "metadata": {},
     "output_type": "display_data"
    }
   ],
   "source": [
    "from IPython.core.display import display_html\n",
    "display_html(\"<script>Jupyter.notebook.kernel.restart()</script>\",raw=True)"
   ]
  },
  {
   "cell_type": "code",
   "execution_count": 1,
   "id": "19093beb",
   "metadata": {},
   "outputs": [
    {
     "data": {
      "text/html": [
       "<style>.container { width:100% !important; }</style>"
      ],
      "text/plain": [
       "<IPython.core.display.HTML object>"
      ]
     },
     "metadata": {},
     "output_type": "display_data"
    },
    {
     "data": {
      "text/html": [
       "<style>.container { width:100% !important; }</style>"
      ],
      "text/plain": [
       "<IPython.core.display.HTML object>"
      ]
     },
     "metadata": {},
     "output_type": "display_data"
    }
   ],
   "source": [
    "from sys import path; path.insert(1,\"../src\");\n",
    "import fubar; from importlib import reload; reload(fubar);"
   ]
  },
  {
   "cell_type": "markdown",
   "id": "616b0550",
   "metadata": {},
   "source": [
    "***\n",
    "< [GMIT Data Analytics](https://web.archive.org/web/20201029063153/https://www.gmit.ie/computer-science-and-applied-physics/higher-diploma-science-computing-data-analytics-ict) | [Home](https://github.com/SeanOhAileasa) | [README](https://github.com/SeanOhAileasa/mls-t-test/blob/main/README.md) >\n",
    "\n",
    "[![GMIT](https://github.com/SeanOhAileasa/SeanOhAileasa/blob/master/rc/gmit.png?raw=true)](https://web.archive.org/web/20201029063153/https://www.gmit.ie/computer-science-and-applied-physics/higher-diploma-science-computing-data-analytics-ict)\n",
    "\n",
    "## Machine Learning & Statistics - Course Material 2021\n",
    "### Topic: [t-test](https://nbviewer.jupyter.org/github/SeanOhAileasa/mls-t-test/blob/main/mls-t-test.ipynb)\n",
    "***"
   ]
  },
  {
   "cell_type": "markdown",
   "id": "220c0602",
   "metadata": {},
   "source": [
    "Course material for the ``Machine Learning & Statistics`` module (5 Credits) of the ``Higher Diploma in Science in Computing (Data Analytics) (H.Dip)`` programme (75 Credits) at **Galway-Mayo Institute of Technology (GMIT)**."
   ]
  },
  {
   "cell_type": "markdown",
   "id": "85ba523b",
   "metadata": {},
   "source": [
    "- referenced external link - [Machine Learning & Statistics](https://nbviewer.jupyter.org/github/SeanOhAileasa/mls-machine-learning-statistics/blob/main/mls-machine-learning-statistics.ipynb)"
   ]
  },
  {
   "cell_type": "code",
   "execution_count": 2,
   "id": "c75655d3",
   "metadata": {},
   "outputs": [],
   "source": [
    "from sys import path; path.insert(1,\"../src\")\n",
    "from fubar import fFile,fMagic"
   ]
  },
  {
   "cell_type": "code",
   "execution_count": 3,
   "id": "464c029f",
   "metadata": {
    "scrolled": true
   },
   "outputs": [
    {
     "name": "stdout",
     "output_type": "stream",
     "text": [
      "# repository ./SeanOhAileasa\r\n",
      "def fFile(nParPath):\r\n",
      "    \"\"\"Start a file with its associated application.\r\n",
      "\r\n",
      "Input: nParPath\r\n",
      "Process: (os.path.realpath; os.startfile)\r\n",
      "Output: file opened with associated application\r\n",
      "\"\"\"\r\n",
      "    from os import path,startfile\r\n",
      "    return startfile(path.realpath(nParPath))\r\n",
      "# --- END ---\r\n"
     ]
    }
   ],
   "source": [
    "%%script bash\n",
    "grep -1 \"def fFile\" ../src/fubar.py -A 9"
   ]
  },
  {
   "cell_type": "markdown",
   "id": "e1449819",
   "metadata": {},
   "source": [
    "<a id=\"top\"></a>\n",
    "***\n",
    "## Table of Contents\n",
    "***\n",
    "\n",
    "## [Abstract](#abstract)\n",
    "\n",
    "## [Introduction](#introduction) \n",
    "\n",
    "* [Simulation](#simulation) <br/><br/>\n",
    "    * [Collections](#simulationnumpyrandomnormalFakeData) ``a`` ``b`` <br/><br/>\n",
    "        * [Data Structure](#dataStructure) <br/><br/>\n",
    "            * [Visualisation](#dataStructurevisualisation) <br/><br/>\n",
    "* [T-Test](#solutionttest) <br/><br/>\n",
    "    * [``scipy.stats``](#solutionscipystats) <br/><br/>\n",
    "    * [``statsmodels.stats.weightstats``](#solutionstatsmodelsstatsweightstats)\n",
    "\n",
    "## [Solution](#solution)\n",
    "\n",
    "* [PDF](#solutionProbabilityDensityFunction) <br/><br/>\n",
    "    * [Assumptions](#solutionAssumptions) <br/><br/>\n",
    "* [T-Test](#solutionDifferentQuestionttest) <br/><br/>\n",
    "    * [Critical Values](#solutionDifferentQuestionttestCriticalValues) <br/><br/>\n",
    "* [Error](#solutionProbabilityDensityFunctionError) <br/><br/>\n",
    "    * [Type I Errors](#solutionProbabilityDensityFunctionErrorTypeIErrorFalsePositives) (``False Positives``) <br/><br/>\n",
    "    * [Type II Errors](#solutionProbabilityDensityFunctionErrorTypeIErrorFalseNegatives) (``False Negatives``) <br/><br/>\n",
    "\n",
    "## [Conclusion](#conclusion)\n",
    "\n",
    "- &#x1F6A7;"
   ]
  },
  {
   "cell_type": "markdown",
   "id": "bc989e6f",
   "metadata": {},
   "source": [
    "***\n",
    "## END"
   ]
  },
  {
   "cell_type": "markdown",
   "id": "0c88ab4a",
   "metadata": {},
   "source": [
    "< [Table of Contents](#top) | [Introduction](#introduction) | [Solution](#solution) | [Conclusion](#conclusion) | [References](#references) >\n",
    "<a id=\"abstract\"></a>\n",
    "***\n",
    "## Abstract\n",
    "***"
   ]
  },
  {
   "cell_type": "markdown",
   "id": "f2075ba9",
   "metadata": {},
   "source": [
    "- in comparison to machine learning the ``t-test`` is an old-style statistical test - there is an interesting relationship between the ``t-test`` and Ireland - William Sealy Gosset figured out a way to test if two sets of numbers are similar [1]"
   ]
  },
  {
   "cell_type": "markdown",
   "id": "bb00699e",
   "metadata": {},
   "source": [
    "- the technique is a traditional way of looking at the world and trying to make predictions based on data - even though it is the older approach many think it is still the better approach (machine learning practitioners may not know much about these older methods) [1]"
   ]
  },
  {
   "cell_type": "markdown",
   "id": "2c722a77",
   "metadata": {},
   "source": [
    "- the ``t-test`` is heavily used in the life/medical/physical sciences and provides a grounding in the ideas around machine learning [1]"
   ]
  },
  {
   "cell_type": "markdown",
   "id": "c6b4ce04",
   "metadata": {},
   "source": [
    "- thinking about uncertainty in the world and datasets that have a pattern in them - that pattern may have a little bit of variability and a little bit of volatility (not a straightforward pattern) [1]"
   ]
  },
  {
   "cell_type": "markdown",
   "id": "7d1a0af5",
   "metadata": {},
   "source": [
    "- there is a lot of theory behind ``t-tests`` (probability distributions and formulating hypothesis tests etc) - demonstrating the ``t-test`` from a computer science point of view [1]"
   ]
  },
  {
   "cell_type": "markdown",
   "id": "c506daf0",
   "metadata": {},
   "source": [
    "- ``scipy.stats.ttest_ind`` is literally performing a ``t-test`` (passing arguments ``a`` and ``b``) [1]\n",
    "\n",
    "```python\n",
    "scipy.stats.ttest_ind(a,b)\n",
    "```"
   ]
  },
  {
   "cell_type": "markdown",
   "id": "7b545f34",
   "metadata": {},
   "source": [
    "- there is a little bit of preparation for the two inputs (``a`` and ``b``) but the preparation is really just unravelling those because all ``a`` is a collection of numbers and all ``b`` is a collection of numbers [1]"
   ]
  },
  {
   "cell_type": "markdown",
   "id": "8df62ea3",
   "metadata": {},
   "source": [
    "- the point is it is very easy to run statistical tests when you know a little bit of programming - many organisations spend a lot of money on ``SPSS`` and the main thing its used for is to run something like ``scipy.stats.ttest_ind(a,b)`` (in python) and get the exact same output [1]"
   ]
  },
  {
   "cell_type": "markdown",
   "id": "b2d2ae49",
   "metadata": {},
   "source": [
    "- running machine learning code is fairly straightforward whereby a single statement actually does the heavy lifting - digging into a package to do the calculation is straightforward - could easily code up a ``t-test`` function but the interpretation of the outputs is where it is at [1]"
   ]
  },
  {
   "cell_type": "markdown",
   "id": "9cdf3518",
   "metadata": {},
   "source": [
    "- what is assumed before doing the test and how the assumptions are justified (running the machine learning code statement) then comes the interpretation of the results coming out of that test [1]"
   ]
  },
  {
   "cell_type": "markdown",
   "id": "ab63f227",
   "metadata": {},
   "source": [
    "- generally speaking will get essentially two numbers in the output: i. the calculation of the actual ``t-statistic`` and; ii. some probability related to that value saying how likely it was to see that value based on the prior assumptions [1]"
   ]
  },
  {
   "cell_type": "markdown",
   "id": "3fa461fc",
   "metadata": {},
   "source": [
    "***\n",
    "## END"
   ]
  },
  {
   "cell_type": "markdown",
   "id": "d319e57d",
   "metadata": {},
   "source": [
    "< [Table of Contents](#top) | [Abstract](#abstract) | [Solution](#solution) | [Conclusion](#conclusion) | [References](#references) >\n",
    "<a id=\"introduction\"></a>\n",
    "***\n",
    "## Introduction\n",
    "***"
   ]
  },
  {
   "cell_type": "markdown",
   "id": "40263a41",
   "metadata": {},
   "source": [
    "- a ``t-test`` is a statistical test that looks for differences in two collections of numbers - asks did the two collections come from what looks like the same probability distribution (checking if two collections came from populations that have the same average) [1]"
   ]
  },
  {
   "cell_type": "markdown",
   "id": "19d00484",
   "metadata": {},
   "source": [
    "< [Table of Contents](#top) | [References](#references) >\n",
    "<a id=\"simulation\"></a>\n",
    "***\n",
    "### Simulation\n",
    "***"
   ]
  },
  {
   "cell_type": "markdown",
   "id": "cef38aef",
   "metadata": {},
   "source": [
    "- generating two collections of random numbers [2]"
   ]
  },
  {
   "cell_type": "markdown",
   "id": "adc3a24b",
   "metadata": {},
   "source": [
    "- ``m_a`` and ``m_b`` represents the mean of each collection of random numbers generated [2]"
   ]
  },
  {
   "cell_type": "code",
   "execution_count": 1,
   "id": "3be61bca",
   "metadata": {},
   "outputs": [],
   "source": [
    "m_a,m_b=1.0,2.0"
   ]
  },
  {
   "cell_type": "markdown",
   "id": "793d39fc",
   "metadata": {},
   "source": [
    "- ``s_a`` and ``s_b`` (technically not quite right) represents the standard deviation [2]"
   ]
  },
  {
   "cell_type": "code",
   "execution_count": 2,
   "id": "1718df47",
   "metadata": {},
   "outputs": [],
   "source": [
    "s_a,s_b=0.4,0.4"
   ]
  },
  {
   "cell_type": "markdown",
   "id": "0bc1da36",
   "metadata": {},
   "source": [
    "- ``N`` is just a convenience parameter thrown in [2]"
   ]
  },
  {
   "cell_type": "code",
   "execution_count": 3,
   "id": "40fa1a6d",
   "metadata": {},
   "outputs": [],
   "source": [
    "N=40 # representing collection length"
   ]
  },
  {
   "cell_type": "markdown",
   "id": "f5388792",
   "metadata": {},
   "source": [
    "< [Table of Contents](#top) | [References](#references) >\n",
    "<a id=\"simulationnumpyrandomnormalFakeData\"></a>\n",
    "***\n",
    "###### Collections ``a`` ``b``\n",
    "***"
   ]
  },
  {
   "cell_type": "markdown",
   "id": "559f26b6",
   "metadata": {},
   "source": [
    "- creating collections ``a`` and ``b`` - both are just collections of numbers wrapped in ``numpy`` arrays - takes the collection of numbers and makes them another collection of numbers with all the ``numpy`` functionality [2]"
   ]
  },
  {
   "cell_type": "code",
   "execution_count": 4,
   "id": "c36041ce",
   "metadata": {},
   "outputs": [],
   "source": [
    "import numpy as np"
   ]
  },
  {
   "cell_type": "code",
   "execution_count": 5,
   "id": "117925be",
   "metadata": {},
   "outputs": [
    {
     "name": "stdout",
     "output_type": "stream",
     "text": [
      "Provides\n",
      "  1. An array object of arbitrary homogeneous items\n",
      "  2. Fast mathematical operations over arrays\n",
      "  3. Linear Algebra, Fourier Transforms, Random Number Generation\n"
     ]
    }
   ],
   "source": [
    "print(\"\\n\".join(np.__doc__.split(\"\\n\")[4:8]))"
   ]
  },
  {
   "cell_type": "markdown",
   "id": "599e5226",
   "metadata": {},
   "source": [
    "- the numbers are the same but the ``numpy`` arrays produced are more efficient than the bog-standard collection from python [2]"
   ]
  },
  {
   "cell_type": "markdown",
   "id": "4f5ac19c",
   "metadata": {},
   "source": [
    "- ``numpy.random.normal`` is going to generate random numbers on a bell-shaped curve [2]"
   ]
  },
  {
   "cell_type": "markdown",
   "id": "32d479d9",
   "metadata": {},
   "source": [
    "- specifying the mean ``m_a`` (and ``m_b``) picks a number that comes out with an average around the mean location (``loc``) - generates a collection of numbers centred around $1.0$ [2]"
   ]
  },
  {
   "cell_type": "code",
   "execution_count": 6,
   "id": "c2c90e1a",
   "metadata": {},
   "outputs": [
    {
     "data": {
      "text/plain": [
       "1.0"
      ]
     },
     "execution_count": 6,
     "metadata": {},
     "output_type": "execute_result"
    }
   ],
   "source": [
    "m_a"
   ]
  },
  {
   "cell_type": "code",
   "execution_count": 7,
   "id": "5dc630ae",
   "metadata": {},
   "outputs": [
    {
     "data": {
      "text/plain": [
       "2.0"
      ]
     },
     "execution_count": 7,
     "metadata": {},
     "output_type": "execute_result"
    }
   ],
   "source": [
    "m_b # collection centered around"
   ]
  },
  {
   "cell_type": "markdown",
   "id": "08b7ff39",
   "metadata": {},
   "source": [
    "- the ``scale`` basically means the spread according to ``s_a`` (and ``s_b``) - generally means ``s_a`` is unlikely to generate numbers bigger than $2.5$ and smaller than $-0.5$ (with total $40$) [2]"
   ]
  },
  {
   "cell_type": "code",
   "execution_count": 8,
   "id": "067d2bf0",
   "metadata": {},
   "outputs": [
    {
     "data": {
      "text/plain": [
       "40"
      ]
     },
     "execution_count": 8,
     "metadata": {},
     "output_type": "execute_result"
    }
   ],
   "source": [
    "N # len of collection"
   ]
  },
  {
   "cell_type": "code",
   "execution_count": 9,
   "id": "3fe02450",
   "metadata": {},
   "outputs": [
    {
     "data": {
      "text/plain": [
       "0.4"
      ]
     },
     "execution_count": 9,
     "metadata": {},
     "output_type": "execute_result"
    }
   ],
   "source": [
    "s_a"
   ]
  },
  {
   "cell_type": "code",
   "execution_count": 10,
   "id": "8dff6d1c",
   "metadata": {},
   "outputs": [
    {
     "name": "stdout",
     "output_type": "stream",
     "text": [
      "        The probability density function of the normal distribution, first\n",
      "        derived by De Moivre and 200 years later by both Gauss and Laplace\n",
      "        independently [2]_, is often called the bell curve because of\n",
      "        its characteristic shape (see the example below).\n",
      "\n",
      "        The normal distributions occurs often in nature.  For example, it\n",
      "        describes the commonly occurring distribution of samples influenced\n",
      "        by a large number of tiny, random disturbances, each with its own\n",
      "        unique distribution [2]_.\n"
     ]
    }
   ],
   "source": [
    "print(\"\\n\".join(np.random.normal.__doc__.split(\"\\n\")[5:14]))"
   ]
  },
  {
   "cell_type": "code",
   "execution_count": 11,
   "id": "9eae93aa",
   "metadata": {},
   "outputs": [],
   "source": [
    "a=np.random.normal(loc=m_a,scale=s_a,size=N)"
   ]
  },
  {
   "cell_type": "code",
   "execution_count": 12,
   "id": "6b5da559",
   "metadata": {},
   "outputs": [
    {
     "data": {
      "text/plain": [
       "array([1.31041926, 1.1712742 , 0.85592383, 1.04564546, 1.83713752,\n",
       "       0.47282721, 1.2363005 , 1.47052549, 1.20741686, 0.71955217,\n",
       "       0.94767346, 1.56787629, 0.60870401, 0.27120171, 1.25774866,\n",
       "       0.97638381, 0.45897467, 0.91564322, 0.94019266, 0.56843469,\n",
       "       0.57774851, 1.19794942, 0.95404766, 0.76587891, 0.80550066,\n",
       "       1.00745763, 1.86700479, 1.0684546 , 1.43658241, 1.22760781,\n",
       "       1.44691152, 0.94350316, 1.49795642, 1.01247514, 0.66003729,\n",
       "       0.74190751, 1.14431772, 1.68538717, 0.86689136, 0.80968511])"
      ]
     },
     "execution_count": 12,
     "metadata": {},
     "output_type": "execute_result"
    }
   ],
   "source": [
    "a"
   ]
  },
  {
   "cell_type": "code",
   "execution_count": 13,
   "id": "36e54043",
   "metadata": {},
   "outputs": [
    {
     "data": {
      "text/plain": [
       "0.4"
      ]
     },
     "execution_count": 13,
     "metadata": {},
     "output_type": "execute_result"
    }
   ],
   "source": [
    "s_b"
   ]
  },
  {
   "cell_type": "code",
   "execution_count": 14,
   "id": "7beeedf0",
   "metadata": {},
   "outputs": [],
   "source": [
    "b=np.random.normal(loc=m_b,scale=s_b,size=N)"
   ]
  },
  {
   "cell_type": "code",
   "execution_count": 15,
   "id": "d345d812",
   "metadata": {},
   "outputs": [
    {
     "data": {
      "text/plain": [
       "array([2.93091532, 1.15095363, 2.14092085, 2.25835421, 2.19370041,\n",
       "       1.58479401, 2.05254963, 1.15846074, 1.92033675, 2.70295564,\n",
       "       1.99241896, 2.21553576, 1.6978988 , 1.75089087, 2.15705861,\n",
       "       1.92047196, 1.81120169, 1.89233844, 2.14242592, 1.92607656,\n",
       "       2.18555344, 2.56157533, 1.59768834, 2.48092264, 1.95480461,\n",
       "       1.39226852, 2.38299457, 1.57051209, 1.40808875, 1.87101478,\n",
       "       1.47153664, 1.15663177, 1.89513648, 2.5597979 , 1.51722752,\n",
       "       2.09832205, 1.78037314, 1.74939475, 1.48321214, 2.05239936])"
      ]
     },
     "execution_count": 15,
     "metadata": {},
     "output_type": "execute_result"
    }
   ],
   "source": [
    "b"
   ]
  },
  {
   "cell_type": "markdown",
   "id": "a43e009f",
   "metadata": {},
   "source": [
    "< [Table of Contents](#top) | [References](#references) >\n",
    "<a id=\"dataStructure\"></a>\n",
    "***\n",
    "###### Data Structure\n",
    "***"
   ]
  },
  {
   "cell_type": "markdown",
   "id": "336ab8d5",
   "metadata": {},
   "source": [
    "- creating a data structure built from the ``numpy`` collection - using ``pandas`` allows different types for the columns (an abstraction on top of ``numpy``) [1]"
   ]
  },
  {
   "cell_type": "code",
   "execution_count": 16,
   "id": "5eae3fe7",
   "metadata": {},
   "outputs": [],
   "source": [
    "import pandas as pd"
   ]
  },
  {
   "cell_type": "code",
   "execution_count": 17,
   "id": "0dbebfa8",
   "metadata": {
    "scrolled": true
   },
   "outputs": [
    {
     "name": "stdout",
     "output_type": "stream",
     "text": [
      "pandas - a powerful data analysis and manipulation library for Python\n"
     ]
    }
   ],
   "source": [
    "print(\"\\n\".join(pd.__doc__.split(\"\\n\")[1:2]))"
   ]
  },
  {
   "cell_type": "markdown",
   "id": "b2b9d15e",
   "metadata": {},
   "source": [
    "- creating a ``DataFrame`` of the ``a`` and ``b`` collections [2] "
   ]
  },
  {
   "cell_type": "markdown",
   "id": "783fca62",
   "metadata": {},
   "source": [
    "- ``A`` is going to be in the column beside the ``a`` collection - ``B`` is going to be in the column beside the ``b`` collection [2]"
   ]
  },
  {
   "cell_type": "markdown",
   "id": "83916176",
   "metadata": {},
   "source": [
    "- the ``a`` collection is meant to be centred around $1.0$ (beside the column called Category ``A``) - the ``b`` collection is meant to be centred around $2.0$ (beside the column called Category ``B``) [2]"
   ]
  },
  {
   "cell_type": "code",
   "execution_count": 18,
   "id": "64f30491",
   "metadata": {},
   "outputs": [
    {
     "name": "stdout",
     "output_type": "stream",
     "text": [
      "    Two-dimensional, size-mutable, potentially heterogeneous tabular data.\n",
      "\n",
      "    Data structure also contains labeled axes (rows and columns).\n",
      "    Arithmetic operations align on both row and column labels. Can be\n",
      "    thought of as a dict-like container for Series objects. The primary\n",
      "    pandas data structure.\n"
     ]
    }
   ],
   "source": [
    "print(\"\\n\".join(pd.DataFrame.__doc__.split(\"\\n\")[1:7]))"
   ]
  },
  {
   "cell_type": "code",
   "execution_count": 19,
   "id": "8a712627",
   "metadata": {},
   "outputs": [],
   "source": [
    "df=pd.DataFrame(data={\"Category\":[\"A\"]*len(a)+[\"B\"]*len(b),\"Value\":np.hstack([a,b])})"
   ]
  },
  {
   "cell_type": "code",
   "execution_count": 20,
   "id": "43542043",
   "metadata": {},
   "outputs": [
    {
     "data": {
      "text/html": [
       "<div>\n",
       "<style scoped>\n",
       "    .dataframe tbody tr th:only-of-type {\n",
       "        vertical-align: middle;\n",
       "    }\n",
       "\n",
       "    .dataframe tbody tr th {\n",
       "        vertical-align: top;\n",
       "    }\n",
       "\n",
       "    .dataframe thead th {\n",
       "        text-align: right;\n",
       "    }\n",
       "</style>\n",
       "<table border=\"1\" class=\"dataframe\">\n",
       "  <thead>\n",
       "    <tr style=\"text-align: right;\">\n",
       "      <th></th>\n",
       "      <th>Category</th>\n",
       "      <th>Value</th>\n",
       "    </tr>\n",
       "  </thead>\n",
       "  <tbody>\n",
       "    <tr>\n",
       "      <th>0</th>\n",
       "      <td>A</td>\n",
       "      <td>1.310419</td>\n",
       "    </tr>\n",
       "    <tr>\n",
       "      <th>1</th>\n",
       "      <td>A</td>\n",
       "      <td>1.171274</td>\n",
       "    </tr>\n",
       "    <tr>\n",
       "      <th>2</th>\n",
       "      <td>A</td>\n",
       "      <td>0.855924</td>\n",
       "    </tr>\n",
       "    <tr>\n",
       "      <th>3</th>\n",
       "      <td>A</td>\n",
       "      <td>1.045645</td>\n",
       "    </tr>\n",
       "    <tr>\n",
       "      <th>4</th>\n",
       "      <td>A</td>\n",
       "      <td>1.837138</td>\n",
       "    </tr>\n",
       "    <tr>\n",
       "      <th>...</th>\n",
       "      <td>...</td>\n",
       "      <td>...</td>\n",
       "    </tr>\n",
       "    <tr>\n",
       "      <th>75</th>\n",
       "      <td>B</td>\n",
       "      <td>2.098322</td>\n",
       "    </tr>\n",
       "    <tr>\n",
       "      <th>76</th>\n",
       "      <td>B</td>\n",
       "      <td>1.780373</td>\n",
       "    </tr>\n",
       "    <tr>\n",
       "      <th>77</th>\n",
       "      <td>B</td>\n",
       "      <td>1.749395</td>\n",
       "    </tr>\n",
       "    <tr>\n",
       "      <th>78</th>\n",
       "      <td>B</td>\n",
       "      <td>1.483212</td>\n",
       "    </tr>\n",
       "    <tr>\n",
       "      <th>79</th>\n",
       "      <td>B</td>\n",
       "      <td>2.052399</td>\n",
       "    </tr>\n",
       "  </tbody>\n",
       "</table>\n",
       "<p>80 rows × 2 columns</p>\n",
       "</div>"
      ],
      "text/plain": [
       "   Category     Value\n",
       "0         A  1.310419\n",
       "1         A  1.171274\n",
       "2         A  0.855924\n",
       "3         A  1.045645\n",
       "4         A  1.837138\n",
       "..      ...       ...\n",
       "75        B  2.098322\n",
       "76        B  1.780373\n",
       "77        B  1.749395\n",
       "78        B  1.483212\n",
       "79        B  2.052399\n",
       "\n",
       "[80 rows x 2 columns]"
      ]
     },
     "execution_count": 20,
     "metadata": {},
     "output_type": "execute_result"
    }
   ],
   "source": [
    "df"
   ]
  },
  {
   "cell_type": "markdown",
   "id": "a9cbf146",
   "metadata": {},
   "source": [
    "< [Table of Contents](#top) | [References](#references) >\n",
    "<a id=\"dataStructurevisualisation\"></a>\n",
    "***\n",
    "###### Visualisation\n",
    "***"
   ]
  },
  {
   "cell_type": "markdown",
   "id": "10a130ef",
   "metadata": {},
   "source": [
    "- getting a picture of whats going on [2]"
   ]
  },
  {
   "cell_type": "code",
   "execution_count": 21,
   "id": "8899edfc",
   "metadata": {},
   "outputs": [],
   "source": [
    "import matplotlib.pyplot as plt"
   ]
  },
  {
   "cell_type": "code",
   "execution_count": 22,
   "id": "cc57f404",
   "metadata": {},
   "outputs": [
    {
     "name": "stdout",
     "output_type": "stream",
     "text": [
      "`matplotlib.pyplot` is a state-based interface to matplotlib. It provides\n",
      "a MATLAB-like way of plotting.\n",
      "\n",
      "pyplot is mainly intended for interactive plots and simple cases of\n",
      "programmatic plot generation::\n"
     ]
    }
   ],
   "source": [
    "print(\"\\n\".join(plt.__doc__.split(\"\\n\")[1:6]))"
   ]
  },
  {
   "cell_type": "code",
   "execution_count": 23,
   "id": "ffc587e9",
   "metadata": {},
   "outputs": [],
   "source": [
    "plt.style.use(style=\"fivethirtyeight\")"
   ]
  },
  {
   "cell_type": "code",
   "execution_count": 24,
   "id": "97aa9001",
   "metadata": {},
   "outputs": [],
   "source": [
    "plt.rcParams[\"figure.figsize\"]=12.8,7.2"
   ]
  },
  {
   "cell_type": "code",
   "execution_count": 25,
   "id": "46e68497",
   "metadata": {},
   "outputs": [],
   "source": [
    "import seaborn as sns"
   ]
  },
  {
   "cell_type": "code",
   "execution_count": 26,
   "id": "2ac5ea3a",
   "metadata": {},
   "outputs": [
    {
     "name": "stdout",
     "output_type": "stream",
     "text": [
      "This function provides access to several axes-level functions that\n",
      "show the relationship between a numerical and one or more categorical\n",
      "variables using one of several visual representations. The ``kind``\n"
     ]
    }
   ],
   "source": [
    "print(\"\\n\".join(sns.catplot.__doc__.split(\"\\n\")[2:5]))"
   ]
  },
  {
   "cell_type": "code",
   "execution_count": 27,
   "id": "7434e8d0",
   "metadata": {
    "scrolled": false
   },
   "outputs": [
    {
     "data": {
      "image/png": "[encoded data removed]",
      "text/plain": [
       "<Figure size 360x360 with 1 Axes>"
      ]
     },
     "metadata": {},
     "output_type": "display_data"
    }
   ],
   "source": [
    "sns.catplot(x=\"Category\",y=\"Value\",jitter=False,data=df);"
   ]
  },
  {
   "cell_type": "markdown",
   "id": "4d6a9ed6",
   "metadata": {},
   "source": [
    "- the simulation games the system (knowing the collection ``a`` is grouped around the ``m_a`` and the collection ``b`` is grouped around ``m_b``) [3]"
   ]
  },
  {
   "cell_type": "markdown",
   "id": "530fe7d1",
   "metadata": {},
   "source": [
    "- in the real-world may have measurements for the collection ``a`` and more measurements for the collection ``b`` but not know if both are grouped around separate points [3]"
   ]
  },
  {
   "cell_type": "markdown",
   "id": "089aedc2",
   "metadata": {},
   "source": [
    "- the question is does the collections (``a`` and ``b``) differ in general enough to justify saying the collection ``a`` is different to the collection ``b`` [3]"
   ]
  },
  {
   "cell_type": "markdown",
   "id": "cd247936",
   "metadata": {},
   "source": [
    "< [Table of Contents](#top) | [References](#references) >\n",
    "<a id=\"solutionttest\"></a>\n",
    "***\n",
    "### T-Test\n",
    "***"
   ]
  },
  {
   "cell_type": "markdown",
   "id": "cbf88142",
   "metadata": {},
   "source": [
    "- the ``t-test`` is testing the probability that the distribution from which the two generated collections (``a`` and ``b``) have the same mean [3]"
   ]
  },
  {
   "cell_type": "markdown",
   "id": "43ccb0dc",
   "metadata": {},
   "source": [
    "- two different methods: i. ``scipy.stats`` and; ii. ``statsmodels.stats.weightstats`` [3]"
   ]
  },
  {
   "cell_type": "markdown",
   "id": "8b521a1d",
   "metadata": {},
   "source": [
    "< [Table of Contents](#top) | [References](#references) >\n",
    "<a id=\"solutionscipystats\"></a>\n",
    "***\n",
    "###### ``scipy.stats``\n",
    "***"
   ]
  },
  {
   "cell_type": "code",
   "execution_count": 28,
   "id": "5f431aa4",
   "metadata": {},
   "outputs": [],
   "source": [
    "import scipy.stats as ss"
   ]
  },
  {
   "cell_type": "code",
   "execution_count": 29,
   "id": "381c3b21",
   "metadata": {},
   "outputs": [
    {
     "name": "stdout",
     "output_type": "stream",
     "text": [
      "This module contains a large number of probability distributions as\n",
      "well as a growing library of statistical functions.\n"
     ]
    }
   ],
   "source": [
    "print(\"\\n\".join(ss.__doc__.split(\"\\n\")[9:11]))"
   ]
  },
  {
   "cell_type": "markdown",
   "id": "3db36499",
   "metadata": {},
   "source": [
    "- returning the p-value (``p_ss``) from ``scipy.stats.ttest_ind`` [3]"
   ]
  },
  {
   "cell_type": "markdown",
   "id": "cb1b6a2c",
   "metadata": {},
   "source": [
    "- function ``ttest_ind`` is asking what is the probability (based on a few assumptions) that the numbers in the collection ``a`` and the numbers in the collection ``b`` had an underlying distribution in which both had the same average value [3]"
   ]
  },
  {
   "cell_type": "markdown",
   "id": "8d1b7da7",
   "metadata": {},
   "source": [
    "- testing if there is sufficient evidence that the values in ``a`` and ``b`` are grouped around the same point (simulation is gamed so that this is not the case) [3]"
   ]
  },
  {
   "cell_type": "code",
   "execution_count": 30,
   "id": "7fbef74d",
   "metadata": {},
   "outputs": [
    {
     "name": "stdout",
     "output_type": "stream",
     "text": [
      "    This is a two-sided test for the null hypothesis that 2 independent samples\n",
      "    have identical average (expected) values. This test assumes that the\n",
      "    populations have identical variances by default.\n"
     ]
    }
   ],
   "source": [
    "print(\"\\n\".join(ss.ttest_ind.__doc__.split(\"\\n\")[3:6]))"
   ]
  },
  {
   "cell_type": "code",
   "execution_count": 31,
   "id": "72516b56",
   "metadata": {},
   "outputs": [
    {
     "name": "stdout",
     "output_type": "stream",
     "text": [
      "    Notes\n",
      "    -----\n",
      "    We can use this test, if we observe two independent samples from\n",
      "    the same or different population, e.g. exam scores of boys and\n",
      "    girls or of two ethnic groups. The test measures whether the\n",
      "    average (expected) value differs significantly across samples. If\n",
      "    we observe a large p-value, for example larger than 0.05 or 0.1,\n",
      "    then we cannot reject the null hypothesis of identical average scores.\n",
      "    If the p-value is smaller than the threshold, e.g. 1%, 5% or 10%,\n",
      "    then we reject the null hypothesis of equal averages.\n",
      "\n",
      "    References\n",
      "    ----------\n",
      "    .. [1] https://en.wikipedia.org/wiki/T-test#Independent_two-sample_t-test\n",
      "\n",
      "    .. [2] https://en.wikipedia.org/wiki/Welch%27s_t-test\n"
     ]
    }
   ],
   "source": [
    "print(\"\\n\".join(ss.ttest_ind.__doc__.split(\"\\n\")[46:62]))"
   ]
  },
  {
   "cell_type": "code",
   "execution_count": 32,
   "id": "93f30b70",
   "metadata": {},
   "outputs": [],
   "source": [
    "t_ss,p_ss=ss.ttest_ind(a=a,b=b)"
   ]
  },
  {
   "cell_type": "markdown",
   "id": "57f22263",
   "metadata": {},
   "source": [
    "- probability of approximately zero returned - typically a p-value cutoff of $0.05$ is used (5% chance of making the wrong decision) [3]"
   ]
  },
  {
   "cell_type": "code",
   "execution_count": 33,
   "id": "f7bfd024",
   "metadata": {},
   "outputs": [
    {
     "name": "stdout",
     "output_type": "stream",
     "text": [
      "0.00\n"
     ]
    }
   ],
   "source": [
    "print(f\"{p_ss:0.2f}\")"
   ]
  },
  {
   "cell_type": "markdown",
   "id": "ebc11ea9",
   "metadata": {},
   "source": [
    "- the ``t-test`` is suggesting there is almost a 0% chance (zero probability) that the numbers in the collection ``a`` and the collection ``b`` are grouped around the same point on the y-axis [3]"
   ]
  },
  {
   "cell_type": "markdown",
   "id": "1df63465",
   "metadata": {},
   "source": [
    "- there is sufficient evidence to suggest the numbers in the collection ``a`` are different from the numbers in the collection ``b`` (specifically the mean of the distribution they came from) [3]"
   ]
  },
  {
   "cell_type": "markdown",
   "id": "e2bc855e",
   "metadata": {},
   "source": [
    "- can identify the numbers in both collections (``a`` and ``b``) are different by observing the plot - running the statistical test provide evidence that its reproducibly true [3] "
   ]
  },
  {
   "cell_type": "code",
   "execution_count": 34,
   "id": "7d1efeba",
   "metadata": {
    "scrolled": false
   },
   "outputs": [
    {
     "data": {
      "image/png": "[encoded data removed]",
      "text/plain": [
       "<Figure size 360x360 with 1 Axes>"
      ]
     },
     "metadata": {},
     "output_type": "display_data"
    }
   ],
   "source": [
    "sns.catplot(x=\"Category\",y=\"Value\",jitter=False,data=df);"
   ]
  },
  {
   "cell_type": "markdown",
   "id": "3589e193",
   "metadata": {},
   "source": [
    "- now centering the collections (``a`` and ``b``) around the same value [3]"
   ]
  },
  {
   "cell_type": "code",
   "execution_count": 35,
   "id": "c51ea679",
   "metadata": {},
   "outputs": [
    {
     "data": {
      "text/plain": [
       "1.0"
      ]
     },
     "execution_count": 35,
     "metadata": {},
     "output_type": "execute_result"
    }
   ],
   "source": [
    "m_a"
   ]
  },
  {
   "cell_type": "code",
   "execution_count": 36,
   "id": "cd7d49cb",
   "metadata": {},
   "outputs": [],
   "source": [
    "m_b=m_a"
   ]
  },
  {
   "cell_type": "code",
   "execution_count": 37,
   "id": "4c154771",
   "metadata": {},
   "outputs": [
    {
     "data": {
      "text/plain": [
       "1.0"
      ]
     },
     "execution_count": 37,
     "metadata": {},
     "output_type": "execute_result"
    }
   ],
   "source": [
    "m_b"
   ]
  },
  {
   "cell_type": "code",
   "execution_count": 38,
   "id": "1c7246a1",
   "metadata": {},
   "outputs": [],
   "source": [
    "b_m_a=np.random.normal(loc=m_b,scale=s_b,size=N) # collection same mean"
   ]
  },
  {
   "cell_type": "code",
   "execution_count": 39,
   "id": "53ca7568",
   "metadata": {},
   "outputs": [],
   "source": [
    "df_b_m_a=pd.DataFrame(data={\"Category\":[\"A\"]*len(a)+[\"B\"]*len(b_m_a),\"Value\":np.hstack([a,b_m_a])})"
   ]
  },
  {
   "cell_type": "markdown",
   "id": "507f5824",
   "metadata": {},
   "source": [
    "- gaming the system by making sure the numbers are both grouped around $1.0$ - on the plot (minds eye) looks like the ``b`` numbers are a little bit higher than the ``a`` numbers but they are not - its just random chance [3]"
   ]
  },
  {
   "cell_type": "code",
   "execution_count": 40,
   "id": "8b979ea2",
   "metadata": {
    "scrolled": false
   },
   "outputs": [
    {
     "data": {
      "image/png": "[encoded data removed]",
      "text/plain": [
       "<Figure size 360x360 with 1 Axes>"
      ]
     },
     "metadata": {},
     "output_type": "display_data"
    }
   ],
   "source": [
    "sns.catplot(x=\"Category\",y=\"Value\",jitter=False,data=df_b_m_a);"
   ]
  },
  {
   "cell_type": "markdown",
   "id": "8c657e25",
   "metadata": {},
   "source": [
    "- now under the assumption that ``a`` and ``b`` are centred around the same point (gamed the system) [3]"
   ]
  },
  {
   "cell_type": "code",
   "execution_count": 41,
   "id": "3a9c8503",
   "metadata": {
    "scrolled": true
   },
   "outputs": [
    {
     "name": "stdout",
     "output_type": "stream",
     "text": [
      "0.66% probability (7% chance)\n"
     ]
    }
   ],
   "source": [
    "t_ss,p_ss=ss.ttest_ind(a=a,b=b_m_a)\n",
    "print(f\"{p_ss:0.2f}% probability ({p_ss*10:.0f}% chance)\") # typical cutoff 0.05"
   ]
  },
  {
   "cell_type": "markdown",
   "id": "341a860a",
   "metadata": {},
   "source": [
    "- if the typical cutoff is $0.05$ then the statistical test does not provide any evidence they are not centred around same point - no evidence here to suggest that they are not centred around the same point because the output is too high a probability [3]"
   ]
  },
  {
   "cell_type": "markdown",
   "id": "09cc278d",
   "metadata": {},
   "source": [
    "< [Table of Contents](#top) | [References](#references) >\n",
    "<a id=\"solutionstatsmodelsstatsweightstats\"></a>\n",
    "***\n",
    "###### ``statsmodels.stats.weightstats``\n",
    "***"
   ]
  },
  {
   "cell_type": "code",
   "execution_count": 42,
   "id": "17b9c9f9",
   "metadata": {},
   "outputs": [],
   "source": [
    "import statsmodels.stats.weightstats as stat"
   ]
  },
  {
   "cell_type": "code",
   "execution_count": 43,
   "id": "4332c883",
   "metadata": {},
   "outputs": [
    {
     "name": "stdout",
     "output_type": "stream",
     "text": [
      "Tests and descriptive statistics with weights\n"
     ]
    }
   ],
   "source": [
    "print(\"\\n\".join(stat.__doc__.split(\"\\n\")[:1]))"
   ]
  },
  {
   "cell_type": "code",
   "execution_count": 44,
   "id": "5ed6d09d",
   "metadata": {},
   "outputs": [
    {
     "name": "stdout",
     "output_type": "stream",
     "text": [
      "References\n",
      "----------\n",
      "SPSS manual\n",
      "SAS manual\n",
      "\n",
      "This follows in large parts the SPSS manual, which is largely the same as\n",
      "the SAS manual with different, simpler notation.\n"
     ]
    }
   ],
   "source": [
    "print(\"\\n\".join(stat.__doc__.split(\"\\n\")[9:16]))"
   ]
  },
  {
   "cell_type": "markdown",
   "id": "466f95b9",
   "metadata": {},
   "source": [
    "- alternative package returns the same p-value (``p_sm``) [3]"
   ]
  },
  {
   "cell_type": "code",
   "execution_count": 45,
   "id": "ed81680f",
   "metadata": {},
   "outputs": [],
   "source": [
    "t_sm,p_sm,d_sm=stat.ttest_ind(x1=a,x2=b_m_a)"
   ]
  },
  {
   "cell_type": "code",
   "execution_count": 46,
   "id": "92b30262",
   "metadata": {},
   "outputs": [
    {
     "name": "stdout",
     "output_type": "stream",
     "text": [
      "0.66% probability (7% chance)\n"
     ]
    }
   ],
   "source": [
    "print(f\"{p_sm:0.2f}% probability ({p_sm*10:.0f}% chance)\") # typical cutoff 0.05"
   ]
  },
  {
   "cell_type": "code",
   "execution_count": 47,
   "id": "c7d7d980",
   "metadata": {},
   "outputs": [
    {
     "data": {
      "text/plain": [
       "1.0"
      ]
     },
     "execution_count": 47,
     "metadata": {},
     "output_type": "execute_result"
    }
   ],
   "source": [
    "m_b"
   ]
  },
  {
   "cell_type": "markdown",
   "id": "d61e211b",
   "metadata": {},
   "source": [
    "- revert ``m_b`` to original mean value [3]"
   ]
  },
  {
   "cell_type": "code",
   "execution_count": 48,
   "id": "ec2d0352",
   "metadata": {},
   "outputs": [],
   "source": [
    "m_b=2.0"
   ]
  },
  {
   "cell_type": "markdown",
   "id": "a7384a29",
   "metadata": {},
   "source": [
    "***\n",
    "## END"
   ]
  },
  {
   "cell_type": "markdown",
   "id": "68359f1a",
   "metadata": {},
   "source": [
    "< [Table of Contents](#top) | [Abstract](#abstract) | [Introduction](#introduction) | [Conclusion](#conclusion) | [References](#references) >\n",
    "<a id=\"solution\"></a>\n",
    "***\n",
    "## Solution\n",
    "***"
   ]
  },
  {
   "cell_type": "markdown",
   "id": "b811426f",
   "metadata": {},
   "source": [
    "- need to build up an intuition about what a ``t-test`` does [4]"
   ]
  },
  {
   "cell_type": "markdown",
   "id": "9c9039cb",
   "metadata": {},
   "source": [
    "- ``scipy.stats`` or ``statsmodels.stats.weightstats`` does the heavy lifting but its important to understand what assumptions are made going into the test and how the outputs are interpreted [4]"
   ]
  },
  {
   "cell_type": "markdown",
   "id": "f57d09ae",
   "metadata": {},
   "source": [
    "- the values in the collection ``a`` come from a distribution centered around ``m_a`` [4]"
   ]
  },
  {
   "cell_type": "code",
   "execution_count": 49,
   "id": "366e4e31",
   "metadata": {},
   "outputs": [
    {
     "data": {
      "text/plain": [
       "1.0"
      ]
     },
     "execution_count": 49,
     "metadata": {},
     "output_type": "execute_result"
    }
   ],
   "source": [
    "m_a # mean collection a"
   ]
  },
  {
   "cell_type": "code",
   "execution_count": 50,
   "id": "17bd2ffa",
   "metadata": {
    "scrolled": true
   },
   "outputs": [
    {
     "data": {
      "text/plain": [
       "array([1.31041926, 1.1712742 , 0.85592383, 1.04564546, 1.83713752,\n",
       "       0.47282721, 1.2363005 , 1.47052549, 1.20741686, 0.71955217,\n",
       "       0.94767346, 1.56787629, 0.60870401, 0.27120171, 1.25774866,\n",
       "       0.97638381, 0.45897467, 0.91564322, 0.94019266, 0.56843469,\n",
       "       0.57774851, 1.19794942, 0.95404766, 0.76587891, 0.80550066,\n",
       "       1.00745763, 1.86700479, 1.0684546 , 1.43658241, 1.22760781,\n",
       "       1.44691152, 0.94350316, 1.49795642, 1.01247514, 0.66003729,\n",
       "       0.74190751, 1.14431772, 1.68538717, 0.86689136, 0.80968511])"
      ]
     },
     "execution_count": 50,
     "metadata": {},
     "output_type": "execute_result"
    }
   ],
   "source": [
    "a # centered around 1.0"
   ]
  },
  {
   "cell_type": "code",
   "execution_count": 51,
   "id": "3775c77d",
   "metadata": {},
   "outputs": [
    {
     "data": {
      "text/plain": [
       "2.0"
      ]
     },
     "execution_count": 51,
     "metadata": {},
     "output_type": "execute_result"
    }
   ],
   "source": [
    "m_b # mean collection b"
   ]
  },
  {
   "cell_type": "code",
   "execution_count": 52,
   "id": "eb7abf5d",
   "metadata": {},
   "outputs": [
    {
     "data": {
      "text/plain": [
       "array([2.93091532, 1.15095363, 2.14092085, 2.25835421, 2.19370041,\n",
       "       1.58479401, 2.05254963, 1.15846074, 1.92033675, 2.70295564,\n",
       "       1.99241896, 2.21553576, 1.6978988 , 1.75089087, 2.15705861,\n",
       "       1.92047196, 1.81120169, 1.89233844, 2.14242592, 1.92607656,\n",
       "       2.18555344, 2.56157533, 1.59768834, 2.48092264, 1.95480461,\n",
       "       1.39226852, 2.38299457, 1.57051209, 1.40808875, 1.87101478,\n",
       "       1.47153664, 1.15663177, 1.89513648, 2.5597979 , 1.51722752,\n",
       "       2.09832205, 1.78037314, 1.74939475, 1.48321214, 2.05239936])"
      ]
     },
     "execution_count": 52,
     "metadata": {},
     "output_type": "execute_result"
    }
   ],
   "source": [
    "b"
   ]
  },
  {
   "cell_type": "markdown",
   "id": "b612d4a9",
   "metadata": {},
   "source": [
    "- if repeatedly asked to randomly pick a number between one and ten (generate one-thousand numbers) totally independent of each other then would expect if truly random (not great at as humans) out of the one-thousand numbers that $10\\%$ would be $1$ and $10\\%$ would be 2 and $10\\%$ would be $3$ and so on - every number would have the same chance of being picked [4]"
   ]
  },
  {
   "cell_type": "markdown",
   "id": "d71f008d",
   "metadata": {},
   "source": [
    "- whether that actually happened or not does not really matter - what matters is that as the number of guesses increases does the numbers stay uniform at having a 10% chance of being picked out (called a uniform distribution and is usually how randomness is thought of) [4]"
   ]
  },
  {
   "cell_type": "code",
   "execution_count": 53,
   "id": "c3464efe",
   "metadata": {},
   "outputs": [
    {
     "name": "stdout",
     "output_type": "stream",
     "text": [
      "    Return evenly spaced numbers over a specified interval.\n",
      "\n",
      "    Returns `num` evenly spaced samples, calculated over the\n",
      "    interval [`start`, `stop`].\n"
     ]
    }
   ],
   "source": [
    "print(\"\\n\".join(np.linspace.__doc__.split(\"\\n\")[1:5]))"
   ]
  },
  {
   "cell_type": "code",
   "execution_count": 54,
   "id": "bc900423",
   "metadata": {},
   "outputs": [],
   "source": [
    "x=np.linspace(start=-2,stop=4,num=1000)"
   ]
  },
  {
   "cell_type": "markdown",
   "id": "066d84ad",
   "metadata": {},
   "source": [
    "< [Table of Contents](#top) | [References](#references) >\n",
    "<a id=\"solutionProbabilityDensityFunction\"></a>\n",
    "***\n",
    "### PDF\n",
    "***"
   ]
  },
  {
   "cell_type": "markdown",
   "id": "ec606c3e",
   "metadata": {},
   "source": [
    "- the blue curve represents the way in which the numbers in the collection ``a`` are generated (centered around ``m_a`` - the curve is very high around $1$) [4]"
   ]
  },
  {
   "cell_type": "markdown",
   "id": "1a700283",
   "metadata": {},
   "source": [
    "- the fact that the blue curve around the $1$ mark is very high means its very likely to see numbers that are around $1$ and its much less likely to see numbers out past $2$ - the curve is very close to the $0$ point on the x-axis for numbers less than appropriately $0$ or greater than appropriately $2$ - the curve stays above the line out to infinity in the positive direction and stays above the line out to infinity in the negative direction (hugging the x-axis compared to how high it is up around the value $1$) - the curve represents how unlikely it is to see certain values (within certain ranges) [4]"
   ]
  },
  {
   "cell_type": "markdown",
   "id": "cc77a3fa",
   "metadata": {},
   "source": [
    "- the blue curve represents the uncertainty (probability density function ``PDF``) when generating numbers in the collection ``a`` and the red curve represents the uncertainty (``PDF``) when generating numbers in the collection ``b`` [4]"
   ]
  },
  {
   "cell_type": "code",
   "execution_count": 55,
   "id": "389f37a2",
   "metadata": {},
   "outputs": [
    {
     "name": "stdout",
     "output_type": "stream",
     "text": [
      "        Probability density function at x of the given RV.\n"
     ]
    }
   ],
   "source": [
    "print(\"\\n\".join(ss.norm.pdf.__doc__.split(\"\\n\")[1:2]))"
   ]
  },
  {
   "cell_type": "code",
   "execution_count": 56,
   "id": "e086c9b7",
   "metadata": {},
   "outputs": [],
   "source": [
    "y_a=ss.norm.pdf(x=x,loc=m_a,scale=s_a)"
   ]
  },
  {
   "cell_type": "code",
   "execution_count": 57,
   "id": "7f95f7c1",
   "metadata": {},
   "outputs": [],
   "source": [
    "y_b=ss.norm.pdf(x=x,loc=m_b,scale=s_b)"
   ]
  },
  {
   "cell_type": "markdown",
   "id": "b6cb31a1",
   "metadata": {},
   "source": [
    "- in the real world this kind of randomness (blue curve) occurs very frequently - if measuring the heights of men in Ireland would probably find there is an average value (probably $1.6$ or $1.8$ metres) that most men in Ireland is centered around - it is very likely that when measuring a random height it will be somewhere in around $1.7$ - its very unlikely to see somebody up around $2.5$ and very unlikely to see somebody down around $0.5$ - those two extremes do happen but its just very unlikely - the vast majority of people are going to be centered around the same point [4]"
   ]
  },
  {
   "cell_type": "markdown",
   "id": "7cc69037",
   "metadata": {},
   "source": [
    "- normal (blue) curve represents a different type of randomness when compared with picking a number between one and ten which is a uniform distribution (every value is likely) - collection ``a`` is a normal distribution with the generated values centered around $1$ - moving away from $1$ the values become less and less likely (the red line is the same thing but for the collection ``b``) [4]"
   ]
  },
  {
   "cell_type": "markdown",
   "id": "e0686f2d",
   "metadata": {},
   "source": [
    "- its important to note that in the real world the blue line and the red line are unknown (making the assumption they are nice bell shaped curves) - do not know where the tip of each of the two curves are [4]"
   ]
  },
  {
   "cell_type": "markdown",
   "id": "bf50c219",
   "metadata": {},
   "source": [
    "- the ``t-test`` is checking (questions) if the the tip of both curves (i. blue curve and; ii. red curve) are at the same point or not [4]"
   ]
  },
  {
   "cell_type": "markdown",
   "id": "4882787d",
   "metadata": {},
   "source": [
    "- gamed the system (created a fake dataset) knowing the collection ``a`` and the collection ``b`` are different [4]"
   ]
  },
  {
   "cell_type": "code",
   "execution_count": 58,
   "id": "a7775dbb",
   "metadata": {},
   "outputs": [
    {
     "data": {
      "image/png": "[encoded data removed]",
      "text/plain": [
       "<Figure size 921.6x518.4 with 1 Axes>"
      ]
     },
     "metadata": {},
     "output_type": "display_data"
    }
   ],
   "source": [
    "fig_a_not_b,ax=plt.subplots()\n",
    "ax.plot(x,y_a)\n",
    "ax.plot(x,y_b,\"r:\");"
   ]
  },
  {
   "cell_type": "markdown",
   "id": "dbc5a6cc",
   "metadata": {},
   "source": [
    "- centering both collections (``a`` and ``b``) around the same value ($1$) then the blue and red curves coincide [4]"
   ]
  },
  {
   "cell_type": "code",
   "execution_count": 59,
   "id": "ec15d90a",
   "metadata": {},
   "outputs": [
    {
     "data": {
      "text/plain": [
       "1.0"
      ]
     },
     "execution_count": 59,
     "metadata": {},
     "output_type": "execute_result"
    }
   ],
   "source": [
    "m_a"
   ]
  },
  {
   "cell_type": "code",
   "execution_count": 60,
   "id": "bfe3abdb",
   "metadata": {},
   "outputs": [],
   "source": [
    "m_b=m_a"
   ]
  },
  {
   "cell_type": "markdown",
   "id": "91c2d8ef",
   "metadata": {},
   "source": [
    "- the ``t-test`` is checking if this assumption is true (both collections hitting the same point) [4]"
   ]
  },
  {
   "cell_type": "code",
   "execution_count": 61,
   "id": "6f9cc80b",
   "metadata": {},
   "outputs": [
    {
     "data": {
      "text/plain": [
       "1.0"
      ]
     },
     "execution_count": 61,
     "metadata": {},
     "output_type": "execute_result"
    }
   ],
   "source": [
    "m_b"
   ]
  },
  {
   "cell_type": "markdown",
   "id": "d1feb456",
   "metadata": {},
   "source": [
    "- the ``t-test`` is checking to see if they are the same or if there is any evidence that they are not the same (checking if the tips of the curves are the same or not) [4] "
   ]
  },
  {
   "cell_type": "code",
   "execution_count": 62,
   "id": "8dc5b402",
   "metadata": {},
   "outputs": [
    {
     "data": {
      "image/png": "[encoded data removed]",
      "text/plain": [
       "<Figure size 921.6x518.4 with 1 Axes>"
      ]
     },
     "metadata": {},
     "output_type": "display_data"
    }
   ],
   "source": [
    "y_a=ss.norm.pdf(x=x,loc=m_a,scale=s_a)\n",
    "y_b=ss.norm.pdf(x=x,loc=m_b,scale=s_b)\n",
    "fig_a_tip_b,ax=plt.subplots()\n",
    "ax.plot(x,y_a)\n",
    "ax.plot(x,y_b,\"r:\");"
   ]
  },
  {
   "cell_type": "markdown",
   "id": "5ddf0c3d",
   "metadata": {},
   "source": [
    "- revert ``m_b`` to original mean value [4]"
   ]
  },
  {
   "cell_type": "code",
   "execution_count": 63,
   "id": "f9746d07",
   "metadata": {},
   "outputs": [],
   "source": [
    "m_b=2"
   ]
  },
  {
   "cell_type": "markdown",
   "id": "7d5ce4c5",
   "metadata": {},
   "source": [
    "< [Table of Contents](#top) | [References](#references) >\n",
    "<a id=\"solutionAssumptions\"></a>\n",
    "***\n",
    "###### Assumptions\n",
    "***"
   ]
  },
  {
   "cell_type": "markdown",
   "id": "264b36d6",
   "metadata": {},
   "source": [
    "- an underlying assumption is that the collection ``a`` (blue) looks like a bell shaped curve (normal probability distribution) and likewise the collection ``b`` (red) has a bell shaped curve (normal probability distribution) [4]"
   ]
  },
  {
   "cell_type": "markdown",
   "id": "b48dfbb2",
   "metadata": {},
   "source": [
    "- demonstrating the standard ``t-test`` assumes the collection ``a`` (blue) and the collection ``b`` (red) are different - another assumption that is sometimes made (slightly different ``t-test``) is of the spread away from the central point - the central point of the collection ``a`` (blue) is $1$ on the x-axis and is quite a steep curve down towards $2$ and quite a steep curve down towards $0$ [4]"
   ]
  },
  {
   "cell_type": "markdown",
   "id": "fc0e285e",
   "metadata": {},
   "source": [
    "- it still has a normal probability distribution if the peak is a little bit lower and a bit more spread out - so when moving away from the central point maybe it moves away slower but is still a normal distribution only a bit more spread out [4] "
   ]
  },
  {
   "cell_type": "markdown",
   "id": "4b610ba9",
   "metadata": {},
   "source": [
    "- another assumption in the ``t-test`` is often that the spread on the collection ``a`` (blue) curve steepness as its falls away is the same as the steepness of the collection ``b`` (red) curve as its falls away therefore can determine both collections have the same standard deviation [4]"
   ]
  },
  {
   "cell_type": "markdown",
   "id": "78fd122a",
   "metadata": {},
   "source": [
    "< [Table of Contents](#top) | [References](#references) >\n",
    "<a id=\"solutionDifferentQuestionttest\"></a>\n",
    "***\n",
    "### T-Test\n",
    "***"
   ]
  },
  {
   "cell_type": "markdown",
   "id": "3a25f4c9",
   "metadata": {},
   "source": [
    "- a different way of asking the ``t-test`` question is if the centre point of the collection ``a`` (blue) is substacted away from the centre point of the collection ``b`` (red) then is the result zero or not [4]"
   ]
  },
  {
   "cell_type": "code",
   "execution_count": 64,
   "id": "272d4a48",
   "metadata": {},
   "outputs": [
    {
     "data": {
      "image/png": "[encoded data removed]",
      "text/plain": [
       "<Figure size 921.6x518.4 with 1 Axes>"
      ]
     },
     "execution_count": 64,
     "metadata": {},
     "output_type": "execute_result"
    }
   ],
   "source": [
    "fig_a_not_b # result not zero"
   ]
  },
  {
   "cell_type": "markdown",
   "id": "49cb7451",
   "metadata": {},
   "source": [
    "- if both collections (``a`` and ``b``) are at the same point on the x-axis (take one from the other returns zero) then both are the same [4]"
   ]
  },
  {
   "cell_type": "code",
   "execution_count": 65,
   "id": "15868070",
   "metadata": {},
   "outputs": [
    {
     "data": {
      "image/png": "[encoded data removed]",
      "text/plain": [
       "<Figure size 921.6x518.4 with 1 Axes>"
      ]
     },
     "execution_count": 65,
     "metadata": {},
     "output_type": "execute_result"
    }
   ],
   "source": [
    "fig_a_tip_b # tip result zero "
   ]
  },
  {
   "cell_type": "markdown",
   "id": "a57537de",
   "metadata": {},
   "source": [
    "- this is essentially what the ``t-test`` is doing and ends up with a t-distribution (looks like the normal distribution) [4]"
   ]
  },
  {
   "cell_type": "markdown",
   "id": "0171282a",
   "metadata": {},
   "source": [
    "- plotting the ``t-distribution`` (take samples from the collection ``a`` and samples from the collection ``b``) [4]"
   ]
  },
  {
   "cell_type": "markdown",
   "id": "cdc3ee3c",
   "metadata": {},
   "source": [
    "- randomly selecting values from ``a`` and randomly selecting values from ``b`` then doing a ``t-test`` on both results in an ``t-value`` (or ``t-statistic``) output [4]"
   ]
  },
  {
   "cell_type": "markdown",
   "id": "5a923acc",
   "metadata": {},
   "source": [
    "- this value is a single number (a statistic) - can calculate the probability of seeing a number as extreme as this statistic if the two means are equal [4]"
   ]
  },
  {
   "cell_type": "markdown",
   "id": "34734bd4",
   "metadata": {},
   "source": [
    "- analysing the relationship between the numerical data (collections ``a`` and ``b``) and associated category - the question is was this due to random chance whereby the ``a`` (blue) curve and the ``b`` (red) curve are actually the same (same average points - same centre points) or is there evidence to suggest both do not have the same central point [4]"
   ]
  },
  {
   "cell_type": "markdown",
   "id": "0c45b70c",
   "metadata": {},
   "source": [
    "- assuming that the blue ``a`` and the red ``b`` curve coincide (same central point) then what is the chance of seeing such data (forty ``a`` and forty ``b`` that look very different when plot but in fact both do coincide) [4]"
   ]
  },
  {
   "cell_type": "code",
   "execution_count": 66,
   "id": "b480c4a8",
   "metadata": {
    "scrolled": false
   },
   "outputs": [
    {
     "data": {
      "image/png": "[encoded data removed]",
      "text/plain": [
       "<Figure size 360x360 with 1 Axes>"
      ]
     },
     "metadata": {},
     "output_type": "display_data"
    }
   ],
   "source": [
    "sns.catplot(x=\"Category\",y=\"Value\",jitter=False,data=df);"
   ]
  },
  {
   "cell_type": "markdown",
   "id": "a47a120f",
   "metadata": {},
   "source": [
    "- it could happen by chance that the red dots are upper right and the blue dots are lower left because its possible to get extreme values for the blue and red on each side [4]"
   ]
  },
  {
   "cell_type": "code",
   "execution_count": 67,
   "id": "a3701272",
   "metadata": {},
   "outputs": [
    {
     "data": {
      "image/png": "[encoded data removed]",
      "text/plain": [
       "<Figure size 921.6x518.4 with 1 Axes>"
      ]
     },
     "execution_count": 67,
     "metadata": {},
     "output_type": "execute_result"
    }
   ],
   "source": [
    "fig_a_not_b"
   ]
  },
  {
   "cell_type": "code",
   "execution_count": 68,
   "id": "8ec5b3fd",
   "metadata": {},
   "outputs": [],
   "source": [
    "x_t=np.linspace(start=-4.0,stop=4.0,num=1000)"
   ]
  },
  {
   "cell_type": "code",
   "execution_count": 69,
   "id": "e4c51137",
   "metadata": {},
   "outputs": [
    {
     "name": "stdout",
     "output_type": "stream",
     "text": [
      "A Student's t continuous random variable.\n"
     ]
    }
   ],
   "source": [
    "print(\"\\n\".join(ss.t.__doc__.split(\"\\n\")[:1]))"
   ]
  },
  {
   "cell_type": "code",
   "execution_count": 70,
   "id": "5adbb7bb",
   "metadata": {},
   "outputs": [
    {
     "name": "stdout",
     "output_type": "stream",
     "text": [
      "        Probability density function at x of the given RV.\n"
     ]
    }
   ],
   "source": [
    "print(\"\\n\".join(ss.t.pdf.__doc__.split(\"\\n\")[1:2]))"
   ]
  },
  {
   "cell_type": "code",
   "execution_count": 71,
   "id": "acc30bab",
   "metadata": {},
   "outputs": [],
   "source": [
    "t=ss.t.pdf(x_t,d_sm)"
   ]
  },
  {
   "cell_type": "code",
   "execution_count": 72,
   "id": "6e87d823",
   "metadata": {},
   "outputs": [],
   "source": [
    "tf=pd.DataFrame({\"x\":x_t,\"t\":t})"
   ]
  },
  {
   "cell_type": "code",
   "execution_count": 73,
   "id": "9988b526",
   "metadata": {},
   "outputs": [
    {
     "data": {
      "text/html": [
       "<div>\n",
       "<style scoped>\n",
       "    .dataframe tbody tr th:only-of-type {\n",
       "        vertical-align: middle;\n",
       "    }\n",
       "\n",
       "    .dataframe tbody tr th {\n",
       "        vertical-align: top;\n",
       "    }\n",
       "\n",
       "    .dataframe thead th {\n",
       "        text-align: right;\n",
       "    }\n",
       "</style>\n",
       "<table border=\"1\" class=\"dataframe\">\n",
       "  <thead>\n",
       "    <tr style=\"text-align: right;\">\n",
       "      <th></th>\n",
       "      <th>x</th>\n",
       "      <th>t</th>\n",
       "    </tr>\n",
       "  </thead>\n",
       "  <tbody>\n",
       "    <tr>\n",
       "      <th>0</th>\n",
       "      <td>-4.000000</td>\n",
       "      <td>0.000250</td>\n",
       "    </tr>\n",
       "    <tr>\n",
       "      <th>1</th>\n",
       "      <td>-3.991992</td>\n",
       "      <td>0.000257</td>\n",
       "    </tr>\n",
       "    <tr>\n",
       "      <th>2</th>\n",
       "      <td>-3.983984</td>\n",
       "      <td>0.000264</td>\n",
       "    </tr>\n",
       "    <tr>\n",
       "      <th>3</th>\n",
       "      <td>-3.975976</td>\n",
       "      <td>0.000271</td>\n",
       "    </tr>\n",
       "    <tr>\n",
       "      <th>4</th>\n",
       "      <td>-3.967968</td>\n",
       "      <td>0.000279</td>\n",
       "    </tr>\n",
       "    <tr>\n",
       "      <th>...</th>\n",
       "      <td>...</td>\n",
       "      <td>...</td>\n",
       "    </tr>\n",
       "    <tr>\n",
       "      <th>995</th>\n",
       "      <td>3.967968</td>\n",
       "      <td>0.000279</td>\n",
       "    </tr>\n",
       "    <tr>\n",
       "      <th>996</th>\n",
       "      <td>3.975976</td>\n",
       "      <td>0.000271</td>\n",
       "    </tr>\n",
       "    <tr>\n",
       "      <th>997</th>\n",
       "      <td>3.983984</td>\n",
       "      <td>0.000264</td>\n",
       "    </tr>\n",
       "    <tr>\n",
       "      <th>998</th>\n",
       "      <td>3.991992</td>\n",
       "      <td>0.000257</td>\n",
       "    </tr>\n",
       "    <tr>\n",
       "      <th>999</th>\n",
       "      <td>4.000000</td>\n",
       "      <td>0.000250</td>\n",
       "    </tr>\n",
       "  </tbody>\n",
       "</table>\n",
       "<p>1000 rows × 2 columns</p>\n",
       "</div>"
      ],
      "text/plain": [
       "            x         t\n",
       "0   -4.000000  0.000250\n",
       "1   -3.991992  0.000257\n",
       "2   -3.983984  0.000264\n",
       "3   -3.975976  0.000271\n",
       "4   -3.967968  0.000279\n",
       "..        ...       ...\n",
       "995  3.967968  0.000279\n",
       "996  3.975976  0.000271\n",
       "997  3.983984  0.000264\n",
       "998  3.991992  0.000257\n",
       "999  4.000000  0.000250\n",
       "\n",
       "[1000 rows x 2 columns]"
      ]
     },
     "execution_count": 73,
     "metadata": {},
     "output_type": "execute_result"
    }
   ],
   "source": [
    "tf"
   ]
  },
  {
   "cell_type": "markdown",
   "id": "209838d2",
   "metadata": {},
   "source": [
    "< [Table of Contents](#top) | [References](#references) >\n",
    "<a id=\"solutionDifferentQuestionttestCriticalValues\"></a>\n",
    "***\n",
    "###### Critical Values\n",
    "***"
   ]
  },
  {
   "cell_type": "code",
   "execution_count": 74,
   "id": "005811a0",
   "metadata": {},
   "outputs": [
    {
     "name": "stdout",
     "output_type": "stream",
     "text": [
      "        Percent point function (inverse of `cdf`) at q of the given RV.\n"
     ]
    }
   ],
   "source": [
    "print(\"\\n\".join(ss.t.ppf.__doc__.split(\"\\n\")[1:2]))"
   ]
  },
  {
   "cell_type": "code",
   "execution_count": 75,
   "id": "87e62e4e",
   "metadata": {},
   "outputs": [],
   "source": [
    "tcrit=abs(ss.t.ppf(0.025,d_sm))"
   ]
  },
  {
   "cell_type": "code",
   "execution_count": 76,
   "id": "bf064ab0",
   "metadata": {},
   "outputs": [
    {
     "data": {
      "text/plain": [
       "1.9908470685550523"
      ]
     },
     "execution_count": 76,
     "metadata": {},
     "output_type": "execute_result"
    }
   ],
   "source": [
    "tcrit"
   ]
  },
  {
   "cell_type": "code",
   "execution_count": 77,
   "id": "480c805d",
   "metadata": {},
   "outputs": [],
   "source": [
    "one=tf[tf[\"x\"]>=tcrit]"
   ]
  },
  {
   "cell_type": "code",
   "execution_count": 78,
   "id": "676175d0",
   "metadata": {},
   "outputs": [
    {
     "data": {
      "text/html": [
       "<div>\n",
       "<style scoped>\n",
       "    .dataframe tbody tr th:only-of-type {\n",
       "        vertical-align: middle;\n",
       "    }\n",
       "\n",
       "    .dataframe tbody tr th {\n",
       "        vertical-align: top;\n",
       "    }\n",
       "\n",
       "    .dataframe thead th {\n",
       "        text-align: right;\n",
       "    }\n",
       "</style>\n",
       "<table border=\"1\" class=\"dataframe\">\n",
       "  <thead>\n",
       "    <tr style=\"text-align: right;\">\n",
       "      <th></th>\n",
       "      <th>x</th>\n",
       "      <th>t</th>\n",
       "    </tr>\n",
       "  </thead>\n",
       "  <tbody>\n",
       "    <tr>\n",
       "      <th>749</th>\n",
       "      <td>1.997998</td>\n",
       "      <td>0.055371</td>\n",
       "    </tr>\n",
       "    <tr>\n",
       "      <th>750</th>\n",
       "      <td>2.006006</td>\n",
       "      <td>0.054522</td>\n",
       "    </tr>\n",
       "    <tr>\n",
       "      <th>751</th>\n",
       "      <td>2.014014</td>\n",
       "      <td>0.053684</td>\n",
       "    </tr>\n",
       "    <tr>\n",
       "      <th>752</th>\n",
       "      <td>2.022022</td>\n",
       "      <td>0.052855</td>\n",
       "    </tr>\n",
       "    <tr>\n",
       "      <th>753</th>\n",
       "      <td>2.030030</td>\n",
       "      <td>0.052037</td>\n",
       "    </tr>\n",
       "    <tr>\n",
       "      <th>...</th>\n",
       "      <td>...</td>\n",
       "      <td>...</td>\n",
       "    </tr>\n",
       "    <tr>\n",
       "      <th>995</th>\n",
       "      <td>3.967968</td>\n",
       "      <td>0.000279</td>\n",
       "    </tr>\n",
       "    <tr>\n",
       "      <th>996</th>\n",
       "      <td>3.975976</td>\n",
       "      <td>0.000271</td>\n",
       "    </tr>\n",
       "    <tr>\n",
       "      <th>997</th>\n",
       "      <td>3.983984</td>\n",
       "      <td>0.000264</td>\n",
       "    </tr>\n",
       "    <tr>\n",
       "      <th>998</th>\n",
       "      <td>3.991992</td>\n",
       "      <td>0.000257</td>\n",
       "    </tr>\n",
       "    <tr>\n",
       "      <th>999</th>\n",
       "      <td>4.000000</td>\n",
       "      <td>0.000250</td>\n",
       "    </tr>\n",
       "  </tbody>\n",
       "</table>\n",
       "<p>251 rows × 2 columns</p>\n",
       "</div>"
      ],
      "text/plain": [
       "            x         t\n",
       "749  1.997998  0.055371\n",
       "750  2.006006  0.054522\n",
       "751  2.014014  0.053684\n",
       "752  2.022022  0.052855\n",
       "753  2.030030  0.052037\n",
       "..        ...       ...\n",
       "995  3.967968  0.000279\n",
       "996  3.975976  0.000271\n",
       "997  3.983984  0.000264\n",
       "998  3.991992  0.000257\n",
       "999  4.000000  0.000250\n",
       "\n",
       "[251 rows x 2 columns]"
      ]
     },
     "execution_count": 78,
     "metadata": {},
     "output_type": "execute_result"
    }
   ],
   "source": [
    "one"
   ]
  },
  {
   "cell_type": "code",
   "execution_count": 79,
   "id": "09cde57c",
   "metadata": {},
   "outputs": [],
   "source": [
    "two=tf[tf[\"x\"]<=-tcrit]"
   ]
  },
  {
   "cell_type": "code",
   "execution_count": 80,
   "id": "e91eed49",
   "metadata": {},
   "outputs": [
    {
     "data": {
      "text/html": [
       "<div>\n",
       "<style scoped>\n",
       "    .dataframe tbody tr th:only-of-type {\n",
       "        vertical-align: middle;\n",
       "    }\n",
       "\n",
       "    .dataframe tbody tr th {\n",
       "        vertical-align: top;\n",
       "    }\n",
       "\n",
       "    .dataframe thead th {\n",
       "        text-align: right;\n",
       "    }\n",
       "</style>\n",
       "<table border=\"1\" class=\"dataframe\">\n",
       "  <thead>\n",
       "    <tr style=\"text-align: right;\">\n",
       "      <th></th>\n",
       "      <th>x</th>\n",
       "      <th>t</th>\n",
       "    </tr>\n",
       "  </thead>\n",
       "  <tbody>\n",
       "    <tr>\n",
       "      <th>0</th>\n",
       "      <td>-4.000000</td>\n",
       "      <td>0.000250</td>\n",
       "    </tr>\n",
       "    <tr>\n",
       "      <th>1</th>\n",
       "      <td>-3.991992</td>\n",
       "      <td>0.000257</td>\n",
       "    </tr>\n",
       "    <tr>\n",
       "      <th>2</th>\n",
       "      <td>-3.983984</td>\n",
       "      <td>0.000264</td>\n",
       "    </tr>\n",
       "    <tr>\n",
       "      <th>3</th>\n",
       "      <td>-3.975976</td>\n",
       "      <td>0.000271</td>\n",
       "    </tr>\n",
       "    <tr>\n",
       "      <th>4</th>\n",
       "      <td>-3.967968</td>\n",
       "      <td>0.000279</td>\n",
       "    </tr>\n",
       "    <tr>\n",
       "      <th>...</th>\n",
       "      <td>...</td>\n",
       "      <td>...</td>\n",
       "    </tr>\n",
       "    <tr>\n",
       "      <th>246</th>\n",
       "      <td>-2.030030</td>\n",
       "      <td>0.052037</td>\n",
       "    </tr>\n",
       "    <tr>\n",
       "      <th>247</th>\n",
       "      <td>-2.022022</td>\n",
       "      <td>0.052855</td>\n",
       "    </tr>\n",
       "    <tr>\n",
       "      <th>248</th>\n",
       "      <td>-2.014014</td>\n",
       "      <td>0.053684</td>\n",
       "    </tr>\n",
       "    <tr>\n",
       "      <th>249</th>\n",
       "      <td>-2.006006</td>\n",
       "      <td>0.054522</td>\n",
       "    </tr>\n",
       "    <tr>\n",
       "      <th>250</th>\n",
       "      <td>-1.997998</td>\n",
       "      <td>0.055371</td>\n",
       "    </tr>\n",
       "  </tbody>\n",
       "</table>\n",
       "<p>251 rows × 2 columns</p>\n",
       "</div>"
      ],
      "text/plain": [
       "            x         t\n",
       "0   -4.000000  0.000250\n",
       "1   -3.991992  0.000257\n",
       "2   -3.983984  0.000264\n",
       "3   -3.975976  0.000271\n",
       "4   -3.967968  0.000279\n",
       "..        ...       ...\n",
       "246 -2.030030  0.052037\n",
       "247 -2.022022  0.052855\n",
       "248 -2.014014  0.053684\n",
       "249 -2.006006  0.054522\n",
       "250 -1.997998  0.055371\n",
       "\n",
       "[251 rows x 2 columns]"
      ]
     },
     "execution_count": 80,
     "metadata": {},
     "output_type": "execute_result"
    }
   ],
   "source": [
    "two"
   ]
  },
  {
   "cell_type": "markdown",
   "id": "ad5321ce",
   "metadata": {},
   "source": [
    "- the probability to look at (highlighted red) is the two $2.5\\%$ areas under the curve - when calculating the ``t-statistic`` in this particular situation there is a $2.5\\%$ chance on each side that $5\\%$ of the time ($5\\%$ chance) when the two curves do coincide that the wrong decision will be made (deem the curves do not coincide) - deem the collection ``a`` and the collection ``b`` do not have the same centre point [4]"
   ]
  },
  {
   "cell_type": "markdown",
   "id": "c8e240a8",
   "metadata": {},
   "source": [
    "- there exists an infinity of ``t-values`` on the LHS and an infinity of ``t-values`` on the RHS - if the ``t-value`` was roughly between $2$ and $-2$ then there is no evidence to suggest that the two curves do not coincide [4]"
   ]
  },
  {
   "cell_type": "markdown",
   "id": "f062e1c2",
   "metadata": {},
   "source": [
    "- any value less than $-2$ and any value greater than $2$ then its too extreme - the data points are unlikely (one in twenty chance) in this extreme if the blue and the red curves coincide therefore deem both do not coincide [4]"
   ]
  },
  {
   "cell_type": "code",
   "execution_count": 81,
   "id": "2d508422",
   "metadata": {},
   "outputs": [
    {
     "data": {
      "image/png": "[encoded data removed]",
      "text/plain": [
       "<Figure size 921.6x518.4 with 1 Axes>"
      ]
     },
     "metadata": {},
     "output_type": "display_data"
    }
   ],
   "source": [
    "fig,ax=plt.subplots()\n",
    "ax.plot(x_t,t)\n",
    "ax.fill_between(one[\"x\"],one[\"t\"],0,facecolor=\"red\")\n",
    "ax.fill_between(two[\"x\"],two[\"t\"],0,facecolor=\"red\");"
   ]
  },
  {
   "cell_type": "markdown",
   "id": "d90347eb",
   "metadata": {},
   "source": [
    "- the take home here is that its easy to: i. fake up the data (normally just get a dataset with an ``a`` column and a ``b`` column and asked to determine if the numbers in the columns are different); ii. run the function call (``ss.ttest_ind``) getting a ``p-value``; iii. making a decision [4]"
   ]
  },
  {
   "cell_type": "markdown",
   "id": "f3f3a04c",
   "metadata": {},
   "source": [
    "- the hard part is understanding: i. what the inputs are; ii. where do they come from; iii. was it reasonable to make all these assumptions about them [4]"
   ]
  },
  {
   "cell_type": "code",
   "execution_count": 82,
   "id": "2be3ea16",
   "metadata": {},
   "outputs": [
    {
     "data": {
      "image/png": "[encoded data removed]",
      "text/plain": [
       "<Figure size 921.6x518.4 with 1 Axes>"
      ]
     },
     "execution_count": 82,
     "metadata": {},
     "output_type": "execute_result"
    }
   ],
   "source": [
    "fig_a_not_b"
   ]
  },
  {
   "cell_type": "markdown",
   "id": "6f65e53d",
   "metadata": {},
   "source": [
    "- then the output - how to interpret what the function returned given the underlying assumptions (almost zero chance) [4]"
   ]
  },
  {
   "cell_type": "code",
   "execution_count": 83,
   "id": "c7ce1ad8",
   "metadata": {},
   "outputs": [
    {
     "data": {
      "image/png": "[encoded data removed]",
      "text/plain": [
       "<Figure size 921.6x518.4 with 1 Axes>"
      ]
     },
     "execution_count": 83,
     "metadata": {},
     "output_type": "execute_result"
    }
   ],
   "source": [
    "fig"
   ]
  },
  {
   "cell_type": "markdown",
   "id": "516d39c5",
   "metadata": {},
   "source": [
    "- the calculations are not difficult - its the human side of it and the humans interpretation of the inputs and outputs that is the tricky part of machine learning and statistics and data analytics [4]"
   ]
  },
  {
   "cell_type": "markdown",
   "id": "34b100d9",
   "metadata": {},
   "source": [
    "< [Table of Contents](#top) | [References](#references) >\n",
    "<a id=\"solutionProbabilityDensityFunctionError\"></a>\n",
    "***\n",
    "### Error\n",
    "***"
   ]
  },
  {
   "cell_type": "markdown",
   "id": "7c515d5a",
   "metadata": {},
   "source": [
    "- are the numbers in the collection ``a`` different than the numbers in the collection ``b`` (doing measurments on drug ``a`` is there enough evidence to suggest is different to drug ``b``) [5]"
   ]
  },
  {
   "cell_type": "markdown",
   "id": "daa6d195",
   "metadata": {},
   "source": [
    "- cannot get away from the fact that a wrong decision may be made (built into statistical tests) [5]"
   ]
  },
  {
   "cell_type": "markdown",
   "id": "36818040",
   "metadata": {},
   "source": [
    "- may suggest getting rid of all the errors but it is the errors that enable the evidence to be produced in the first in the first place - if its possible to remove the error then there would be no point doing a statistical test [5]"
   ]
  },
  {
   "cell_type": "markdown",
   "id": "67345a2d",
   "metadata": {},
   "source": [
    "- a statistical test (``t-test``) trys to manage the error (quantify it in some way) and that is the best to hope for [5]"
   ]
  },
  {
   "cell_type": "markdown",
   "id": "cec3a1dd",
   "metadata": {},
   "source": [
    "< [Table of Contents](#top) | [References](#references) >\n",
    "<a id=\"solutionProbabilityDensityFunctionErrorTypeIErrorFalsePositives\"></a>\n",
    "***\n",
    "###### Type I Errors (``False Positives``)\n",
    "***"
   ]
  },
  {
   "cell_type": "markdown",
   "id": "29e4422c",
   "metadata": {},
   "source": [
    "- running a ``t-test`` rejecting the idea that the collection ``a`` and the collection ``b`` have the same central point [5]"
   ]
  },
  {
   "cell_type": "markdown",
   "id": "d0da0bea",
   "metadata": {},
   "source": [
    "- generating ``a`` values and ``b`` values - both collections initially have the same average value ($2.0$) - gaming the system so that both have the same central point [5]"
   ]
  },
  {
   "cell_type": "code",
   "execution_count": 84,
   "id": "cb051ff1",
   "metadata": {},
   "outputs": [],
   "source": [
    "m_a,m_b,s=2.0,2.0,0.3"
   ]
  },
  {
   "cell_type": "code",
   "execution_count": 85,
   "id": "48c3a792",
   "metadata": {},
   "outputs": [],
   "source": [
    "N=100"
   ]
  },
  {
   "cell_type": "markdown",
   "id": "554dedb0",
   "metadata": {},
   "source": [
    "- running ten-thousand ``t-test`` - generating new ``a`` values and new ``b`` values each time but keeping the underlying curves the same (both do coincide) then the ``t-test`` should not suggest that the curves are not the same [5]"
   ]
  },
  {
   "cell_type": "code",
   "execution_count": 86,
   "id": "8b6111d7",
   "metadata": {},
   "outputs": [],
   "source": [
    "nTrails=10000 # ten-thousand t-test trails"
   ]
  },
  {
   "cell_type": "markdown",
   "id": "9ca94750",
   "metadata": {},
   "source": [
    "- giving the ``t-test`` a $5\\%$ chance of determining both collections (``a`` and ``b``) are different essentially [5]"
   ]
  },
  {
   "cell_type": "code",
   "execution_count": 87,
   "id": "3fe3a324",
   "metadata": {},
   "outputs": [],
   "source": [
    "nChance=0.05"
   ]
  },
  {
   "cell_type": "markdown",
   "id": "027f0fec",
   "metadata": {},
   "source": [
    "- running $10,000$ ``nTrails`` of the ``t-test`` around $5\\%$ of the time (even though the two curves do coincide) the data suggests that both collections (``a`` and ``b``) are not the same [5]"
   ]
  },
  {
   "cell_type": "code",
   "execution_count": 88,
   "id": "695a366c",
   "metadata": {},
   "outputs": [],
   "source": [
    "nRejects=0\n",
    "for nEachRun in range(nTrails):\n",
    "    a=np.random.normal(loc=m_a,scale=s,size=N)\n",
    "    b=np.random.normal(loc=m_b,scale=s,size=N)\n",
    "    if ss.ttest_ind(a=a,b=b)[1]<=nChance:\n",
    "        nRejects=nRejects+1"
   ]
  },
  {
   "cell_type": "markdown",
   "id": "02728c90",
   "metadata": {},
   "source": [
    "- built into the ``t-test`` the analyst deems appropriate that $5\\%$ of the time the collections ``a`` and ``b`` are different sets even if actually coming from the same central point [5]"
   ]
  },
  {
   "cell_type": "code",
   "execution_count": 89,
   "id": "2a61e8aa",
   "metadata": {},
   "outputs": [
    {
     "data": {
      "text/plain": [
       "'5.0%'"
      ]
     },
     "execution_count": 89,
     "metadata": {},
     "output_type": "execute_result"
    }
   ],
   "source": [
    "f\"{nChance*100}%\""
   ]
  },
  {
   "cell_type": "code",
   "execution_count": 90,
   "id": "64e7cbc3",
   "metadata": {},
   "outputs": [
    {
     "name": "stdout",
     "output_type": "stream",
     "text": [
      "Type I Error (False Positives): 4.87%\n"
     ]
    }
   ],
   "source": [
    "print(f\"Type I Error (False Positives): {100.0*nRejects/nTrails:0.2f}%\")"
   ]
  },
  {
   "cell_type": "markdown",
   "id": "ec159548",
   "metadata": {},
   "source": [
    "- gaming the system so that the mean of both collections are now different then $100\\%$ of the time the ``t-test`` determines that the averages (central points) are different [5]"
   ]
  },
  {
   "cell_type": "code",
   "execution_count": 91,
   "id": "be033f30",
   "metadata": {},
   "outputs": [
    {
     "data": {
      "text/plain": [
       "2.0"
      ]
     },
     "execution_count": 91,
     "metadata": {},
     "output_type": "execute_result"
    }
   ],
   "source": [
    "m_a"
   ]
  },
  {
   "cell_type": "code",
   "execution_count": 92,
   "id": "514a38bd",
   "metadata": {},
   "outputs": [],
   "source": [
    "m_b=3.0"
   ]
  },
  {
   "cell_type": "code",
   "execution_count": 93,
   "id": "fdab6f5c",
   "metadata": {},
   "outputs": [
    {
     "data": {
      "text/plain": [
       "3.0"
      ]
     },
     "execution_count": 93,
     "metadata": {},
     "output_type": "execute_result"
    }
   ],
   "source": [
    "m_b"
   ]
  },
  {
   "cell_type": "code",
   "execution_count": 94,
   "id": "046ac460",
   "metadata": {},
   "outputs": [],
   "source": [
    "nRejects=0\n",
    "for nEachRun in range(nTrails):\n",
    "    a=np.random.normal(loc=m_a,scale=s,size=N)\n",
    "    b=np.random.normal(loc=m_b,scale=s,size=N)\n",
    "    if ss.ttest_ind(a=a,b=b)[1]<=nChance:\n",
    "        nRejects=nRejects+1"
   ]
  },
  {
   "cell_type": "code",
   "execution_count": 95,
   "id": "9b8e713f",
   "metadata": {},
   "outputs": [
    {
     "name": "stdout",
     "output_type": "stream",
     "text": [
      "Type I Error (False Positives): 100.00%\n"
     ]
    }
   ],
   "source": [
    "print(f\"Type I Error (False Positives): {100.0*nRejects/nTrails:0.2f}%\")"
   ]
  },
  {
   "cell_type": "markdown",
   "id": "753723c8",
   "metadata": {},
   "source": [
    "- determine there is a difference between vaccine ``a`` and vaccine ``b`` when in fact there is actually no difference (``False Positives``) [5]"
   ]
  },
  {
   "cell_type": "markdown",
   "id": "653fa800",
   "metadata": {},
   "source": [
    "- this is built into the test - typically when doing a vaccine would change this so that its more like $0.000001\\%$ of a chance happening [5]"
   ]
  },
  {
   "cell_type": "markdown",
   "id": "8096789e",
   "metadata": {},
   "source": [
    "- the downside is there is the possibility the ``t-test`` is not going to find a difference when there actually is a difference (``False Negative``) [5]"
   ]
  },
  {
   "cell_type": "markdown",
   "id": "81fad4a7",
   "metadata": {},
   "source": [
    "< [Table of Contents](#top) | [References](#references) >\n",
    "<a id=\"solutionProbabilityDensityFunctionErrorTypeIErrorFalseNegatives\"></a>\n",
    "***\n",
    "###### Type II Errors (``False Negatives``)\n",
    "***"
   ]
  },
  {
   "cell_type": "markdown",
   "id": "1b00004d",
   "metadata": {},
   "source": [
    "- its harder to quantify how often ``False Negatives`` occur (sometimes referred to as the power of the test) [5]"
   ]
  },
  {
   "cell_type": "markdown",
   "id": "771946aa",
   "metadata": {},
   "source": [
    "- ``False Positives`` (Type I Errors) are built-in by deciding the cutoff ahead of time (typically $5\\%$) and depends on the application (how serious would it be to find an effect when there is none) [5]"
   ]
  },
  {
   "cell_type": "markdown",
   "id": "dc98d663",
   "metadata": {},
   "source": [
    "- ``False Negatives`` (Type II Errors) depend on the difference between the two values (``m_a`` and ``m_b``) [5]"
   ]
  },
  {
   "cell_type": "code",
   "execution_count": 96,
   "id": "659e7f3d",
   "metadata": {},
   "outputs": [
    {
     "data": {
      "text/plain": [
       "2.0"
      ]
     },
     "execution_count": 96,
     "metadata": {},
     "output_type": "execute_result"
    }
   ],
   "source": [
    "m_a"
   ]
  },
  {
   "cell_type": "code",
   "execution_count": 97,
   "id": "29535133",
   "metadata": {},
   "outputs": [
    {
     "data": {
      "text/plain": [
       "3.0"
      ]
     },
     "execution_count": 97,
     "metadata": {},
     "output_type": "execute_result"
    }
   ],
   "source": [
    "m_b"
   ]
  },
  {
   "cell_type": "markdown",
   "id": "9ad33539",
   "metadata": {},
   "source": [
    "- when running the ``nTrails`` just get $0\\%$ - there are zero trails that incorrectly state that there is no effect when there is (incorrectly state that ``a`` and ``b`` look similar when indeed the mean of ``a`` is $2.0$ and the mean of ``b`` is $3.0$) [5]"
   ]
  },
  {
   "cell_type": "code",
   "execution_count": 98,
   "id": "6d67abed",
   "metadata": {},
   "outputs": [
    {
     "data": {
      "text/plain": [
       "10000"
      ]
     },
     "execution_count": 98,
     "metadata": {},
     "output_type": "execute_result"
    }
   ],
   "source": [
    "nTrails"
   ]
  },
  {
   "cell_type": "code",
   "execution_count": 99,
   "id": "549577a0",
   "metadata": {},
   "outputs": [],
   "source": [
    "nDoNot=0\n",
    "for nEachRun in range(nTrails):\n",
    "    a=np.random.normal(loc=m_a,scale=s,size=N)\n",
    "    b=np.random.normal(loc=m_b,scale=s,size=N)\n",
    "    if ss.ttest_ind(a=a,b=b)[1]>nChance:\n",
    "        nDoNot=nDoNot+1"
   ]
  },
  {
   "cell_type": "code",
   "execution_count": 100,
   "id": "7ffbfc97",
   "metadata": {},
   "outputs": [
    {
     "name": "stdout",
     "output_type": "stream",
     "text": [
      "Type II Error (False Positives): 0.00%\n"
     ]
    }
   ],
   "source": [
    "print(f\"Type II Error (False Positives): {100.0*nDoNot/nTrails:0.2f}%\")"
   ]
  },
  {
   "cell_type": "markdown",
   "id": "ed251e02",
   "metadata": {},
   "source": [
    "- when the mean of collection ``a`` and the mean of collection ``b`` are closer together then its easier to get ``False Negatives`` because ``m_a`` and ``m_b`` are quite close together relative to ``s`` [5]"
   ]
  },
  {
   "cell_type": "code",
   "execution_count": 101,
   "id": "4dbabcd3",
   "metadata": {},
   "outputs": [
    {
     "data": {
      "text/plain": [
       "2.0"
      ]
     },
     "execution_count": 101,
     "metadata": {},
     "output_type": "execute_result"
    }
   ],
   "source": [
    "m_a"
   ]
  },
  {
   "cell_type": "code",
   "execution_count": 102,
   "id": "a534f33a",
   "metadata": {},
   "outputs": [],
   "source": [
    "m_b=2.1"
   ]
  },
  {
   "cell_type": "code",
   "execution_count": 103,
   "id": "ac3e4d32",
   "metadata": {},
   "outputs": [
    {
     "data": {
      "text/plain": [
       "0.3"
      ]
     },
     "execution_count": 103,
     "metadata": {},
     "output_type": "execute_result"
    }
   ],
   "source": [
    "s"
   ]
  },
  {
   "cell_type": "code",
   "execution_count": 104,
   "id": "561b745d",
   "metadata": {},
   "outputs": [],
   "source": [
    "nDoNot=0\n",
    "for nEachRun in range(nTrails):\n",
    "    a=np.random.normal(loc=m_a,scale=s,size=N)\n",
    "    b=np.random.normal(loc=m_b,scale=s,size=N)\n",
    "    if ss.ttest_ind(a=a,b=b)[1]>nChance:\n",
    "        nDoNot=nDoNot+1"
   ]
  },
  {
   "cell_type": "markdown",
   "id": "fca333f8",
   "metadata": {},
   "source": [
    "- now getting ``False Negatives`` therefore not rejecting the idea the two curves coincided when it should [5]"
   ]
  },
  {
   "cell_type": "code",
   "execution_count": 105,
   "id": "ded5353b",
   "metadata": {},
   "outputs": [
    {
     "name": "stdout",
     "output_type": "stream",
     "text": [
      "Type II Error (False Positives): 35.47%\n"
     ]
    }
   ],
   "source": [
    "print(f\"Type II Error (False Positives): {100.0*nDoNot/nTrails:0.2f}%\")"
   ]
  },
  {
   "cell_type": "markdown",
   "id": "b0fbb46a",
   "metadata": {},
   "source": [
    "- cannot get rid of error because its built into the test - the test cannot work unless its accepted some level of risk is in the test (there is no perfect test in the real-world) [5]"
   ]
  },
  {
   "cell_type": "markdown",
   "id": "681a4f11",
   "metadata": {},
   "source": [
    "<!-- - refer [Appendix](#appendix-df) to view the full dataset <a id=\"go-back-df\"></a> -->\n",
    "<!-- print(fGetModuleType(___x___),fDocumentation(___x___)) -->\n",
    "***\n",
    "## END"
   ]
  },
  {
   "cell_type": "markdown",
   "id": "28e9ffc8",
   "metadata": {},
   "source": [
    "< [Table of Contents](#top) | [Abstract](#abstract) | [Introduction](#introduction) | [Solution](#solution) | [References](#references) >\n",
    "<a id=\"conclusion\"></a>\n",
    "***\n",
    "## Conclusion\n",
    "***"
   ]
  },
  {
   "cell_type": "markdown",
   "id": "56d5e2c1",
   "metadata": {},
   "source": [
    "- there is all sorts of problems in statistical tests that are predictable problems and these arise because there is inherence uncertainty in statistical tests [1]"
   ]
  },
  {
   "cell_type": "markdown",
   "id": "840b765a",
   "metadata": {},
   "source": [
    "***\n",
    "## END"
   ]
  },
  {
   "cell_type": "markdown",
   "id": "e0e42d51",
   "metadata": {},
   "source": [
    "< [Table of Contents](#top) | [Abstract](#abstract) | [Introduction](#introduction) | [Solution](#solution) | [Conclusion](#conclusion) | [References](#references) >\n",
    "<a id=\"references\"></a>\n",
    "***\n",
    "## References\n",
    "***\n",
    "&nbsp;&nbsp;&nbsp;&nbsp;&nbsp;&nbsp;&nbsp;&nbsp;&nbsp;[1] I. McLoughlin, \"t-tests in Python setup,\" GMIT, October 2020.\n",
    "\n",
    "&nbsp;&nbsp;&nbsp;&nbsp;&nbsp;&nbsp;&nbsp;&nbsp;&nbsp;[2] I. McLoughlin, \"Simulating data for a t-test,\" GMIT, October 2020.\n",
    "\n",
    "&nbsp;&nbsp;&nbsp;&nbsp;&nbsp;&nbsp;&nbsp;&nbsp;&nbsp;[3] I. McLoughlin, \"Running a t-test in Python,\" GMIT, October 2020.\n",
    "\n",
    "&nbsp;&nbsp;&nbsp;&nbsp;&nbsp;&nbsp;&nbsp;&nbsp;&nbsp;[4] I. McLoughlin, \"Interpreting a t-test,\" GMIT, October 2020.\n",
    "\n",
    "&nbsp;&nbsp;&nbsp;&nbsp;&nbsp;&nbsp;&nbsp;&nbsp;&nbsp;[5] I. McLoughlin, \"Errors and playing with t-tests,\" GMIT, October 2020."
   ]
  },
  {
   "cell_type": "markdown",
   "id": "b33c372a",
   "metadata": {},
   "source": [
    "***\n",
    "## END"
   ]
  },
  {
   "cell_type": "markdown",
   "id": "e5961b4d",
   "metadata": {},
   "source": [
    "< [Table of Contents](#top) | [Abstract](#abstract) | [Introduction](#introduction) | [Solution](#solution) | [Conclusion](#conclusion) | [References](#references) >\n",
    "<a id=\"appendix\"></a>\n",
    "***\n",
    "## Appendix\n",
    "***"
   ]
  },
  {
   "cell_type": "code",
   "execution_count": null,
   "id": "02d41278",
   "metadata": {},
   "outputs": [],
   "source": [
    "# fFile(\"./hide/01-t-tests in Python setup - 18-10-2020.mp4\")\n",
    "# fFile(\"./hide/02-Simulating data for a t-test - 18-10-2020.mp4\")\n",
    "# fFile(\"./hide/03-Running a t-test in Python - 18-10-2020.mp4\")\n",
    "# fFile(\"./hide/04-Interpreting a t-test - 18-10-2020.mp4\")\n",
    "# fFile(\"./hide/05-Errors and playing with t-tests - 18-10-2020.mp4\")\n",
    "# fFile(\"./hide/06-From t-tests to ANOVA - 23-10-2020.mp4\")\n",
    "# fFile(\"./hide/ANOVA/02-Introduction to ANOVA notebook___[Oct 2019].mp4\")\n",
    "# fFile(\"./hide/ANOVA/03-Samples and populations___[Oct 2019].mp4\")\n",
    "# fFile(\"./hide/ANOVA/04-Hypothesis testing errors___[Oct 2019].mp4\")\n",
    "# fFile(\"./hide/ANOVA/05-Hypothesis testing terminology___[Oct 2019].mp4\")\n",
    "# fFile(\"./hide/ANOVA/06-Calculation of the t statistic___[Oct 2019].mp4\")"
   ]
  },
  {
   "cell_type": "markdown",
   "id": "00d82a82",
   "metadata": {},
   "source": [
    "***\n",
    "## END"
   ]
  },
  {
   "cell_type": "markdown",
   "id": "899c1783",
   "metadata": {},
   "source": [
    "# END JUPYTER NOTEBOOK"
   ]
  }
 ],
 "metadata": {
  "kernelspec": {
   "display_name": "Python 3",
   "language": "python",
   "name": "python3"
  },
  "language_info": {
   "codemirror_mode": {
    "name": "ipython",
    "version": 3
   },
   "file_extension": ".py",
   "mimetype": "text/x-python",
   "name": "python",
   "nbconvert_exporter": "python",
   "pygments_lexer": "ipython3",
   "version": "3.8.8"
  }
 },
 "nbformat": 4,
 "nbformat_minor": 5
}
